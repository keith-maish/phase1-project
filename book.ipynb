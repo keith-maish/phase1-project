{
 "cells": [
  {
   "cell_type": "markdown",
   "id": "19f6d637",
   "metadata": {},
   "source": [
    "# Microsoft Movie Data Analysis\n",
    "### Author: Keith Maina"
   ]
  },
  {
   "cell_type": "markdown",
   "id": "d6f91857",
   "metadata": {},
   "source": [
    "## Overview\n",
    "In this project we are going to be examining film data from various sources on the internet such as IMDB, Rotten Tomatoes among others to determine what the next course of action for the newly founded Microsoft film studio should be. We specifically want to provide insight into the kind of films, they should make."
   ]
  },
  {
   "cell_type": "markdown",
   "id": "61904536",
   "metadata": {},
   "source": [
    "## Business Problem\n",
    "We want to know what kind of movie Microsoft movie studios should make by determining the most popular kind of movies.\n",
    "\n",
    "### Business Questions\n",
    "What is the movie with the most reviews? <br>\n",
    "What are the movies with the most positive reviews and what are their genres? <br>\n",
    "What are the top 5 movie genres by popularity? <br>\n",
    "What are the movies with the most money made and what are their genres? <br>"
   ]
  },
  {
   "cell_type": "code",
   "execution_count": 1,
   "id": "897ed5f2",
   "metadata": {},
   "outputs": [],
   "source": [
    "# importing packages\n",
    "import pandas as pd\n",
    "import numpy as np\n",
    "import matplotlib.pyplot as plt\n",
    "import seaborn as sns\n",
    "import csv\n",
    "%matplotlib inline"
   ]
  },
  {
   "cell_type": "markdown",
   "id": "ac431de8",
   "metadata": {},
   "source": [
    "## Data Understanding\n",
    "Here I look at basic information from the  datasets and I decide which datasets to use"
   ]
  },
  {
   "cell_type": "code",
   "execution_count": 14,
   "id": "712d284b",
   "metadata": {},
   "outputs": [],
   "source": [
    "# loading the datasets\n",
    "bom_data= pd.read_csv('Data/bom.movie_gross.csv')\n",
    "\n",
    "nb_data= pd.read_csv('Data/name.basics.csv')\n",
    "\n",
    "movie_info= pd.read_csv('Data/rt.movie_info.tsv', sep='\\t')\n",
    "\n",
    "review_data= pd.read_csv('Data/rt.reviews.tsv', sep='\\t', encoding= 'latin1')\n",
    "\n",
    "title_akas= pd.read_csv('Data/title.akas.csv')\n",
    "\n",
    "title_basics= pd.read_csv('Data/title.basics.csv')\n",
    "\n",
    "title_crew= pd.read_csv('Data/title.crew.csv')\n",
    "\n",
    "title_principles= pd.read_csv('Data/title.principals.csv')\n",
    "\n",
    "title_ratings= pd.read_csv('Data/title.ratings.csv')\n",
    "\n",
    "tmbd_data= pd.read_csv('Data/tmdb.movies.csv', )\n",
    "\n",
    "movie_budgets= pd.read_csv('Data/tn.movie_budgets.csv')"
   ]
  },
  {
   "cell_type": "markdown",
   "id": "b5da4f88",
   "metadata": {},
   "source": [
    "### Basic examination of the box office movie dataset"
   ]
  },
  {
   "cell_type": "code",
   "execution_count": 4,
   "id": "f5389788",
   "metadata": {},
   "outputs": [
    {
     "data": {
      "text/plain": [
       "(3387, 5)"
      ]
     },
     "execution_count": 4,
     "metadata": {},
     "output_type": "execute_result"
    }
   ],
   "source": [
    "bom_data.shape"
   ]
  },
  {
   "cell_type": "code",
   "execution_count": 15,
   "id": "ca085c65",
   "metadata": {
    "scrolled": true
   },
   "outputs": [
    {
     "name": "stdout",
     "output_type": "stream",
     "text": [
      "<class 'pandas.core.frame.DataFrame'>\n",
      "RangeIndex: 3387 entries, 0 to 3386\n",
      "Data columns (total 5 columns):\n",
      " #   Column          Non-Null Count  Dtype  \n",
      "---  ------          --------------  -----  \n",
      " 0   title           3387 non-null   object \n",
      " 1   studio          3382 non-null   object \n",
      " 2   domestic_gross  3359 non-null   float64\n",
      " 3   foreign_gross   2037 non-null   object \n",
      " 4   year            3387 non-null   int64  \n",
      "dtypes: float64(1), int64(1), object(3)\n",
      "memory usage: 132.4+ KB\n"
     ]
    }
   ],
   "source": [
    "bom_data.info()\n",
    "# I notice that the studio field for 5 records is missing\n",
    "#               the domestic_gross field for 28 records is missing\n",
    "#               the foreign_gross field for 1350 records is missing"
   ]
  },
  {
   "cell_type": "code",
   "execution_count": 5,
   "id": "8d110e1d",
   "metadata": {},
   "outputs": [
    {
     "data": {
      "text/html": [
       "<div>\n",
       "<style scoped>\n",
       "    .dataframe tbody tr th:only-of-type {\n",
       "        vertical-align: middle;\n",
       "    }\n",
       "\n",
       "    .dataframe tbody tr th {\n",
       "        vertical-align: top;\n",
       "    }\n",
       "\n",
       "    .dataframe thead th {\n",
       "        text-align: right;\n",
       "    }\n",
       "</style>\n",
       "<table border=\"1\" class=\"dataframe\">\n",
       "  <thead>\n",
       "    <tr style=\"text-align: right;\">\n",
       "      <th></th>\n",
       "      <th>title</th>\n",
       "      <th>studio</th>\n",
       "      <th>domestic_gross</th>\n",
       "      <th>foreign_gross</th>\n",
       "      <th>year</th>\n",
       "    </tr>\n",
       "  </thead>\n",
       "  <tbody>\n",
       "    <tr>\n",
       "      <th>0</th>\n",
       "      <td>Toy Story 3</td>\n",
       "      <td>BV</td>\n",
       "      <td>415000000.0</td>\n",
       "      <td>652000000</td>\n",
       "      <td>2010</td>\n",
       "    </tr>\n",
       "    <tr>\n",
       "      <th>1</th>\n",
       "      <td>Alice in Wonderland (2010)</td>\n",
       "      <td>BV</td>\n",
       "      <td>334200000.0</td>\n",
       "      <td>691300000</td>\n",
       "      <td>2010</td>\n",
       "    </tr>\n",
       "    <tr>\n",
       "      <th>2</th>\n",
       "      <td>Harry Potter and the Deathly Hallows Part 1</td>\n",
       "      <td>WB</td>\n",
       "      <td>296000000.0</td>\n",
       "      <td>664300000</td>\n",
       "      <td>2010</td>\n",
       "    </tr>\n",
       "    <tr>\n",
       "      <th>3</th>\n",
       "      <td>Inception</td>\n",
       "      <td>WB</td>\n",
       "      <td>292600000.0</td>\n",
       "      <td>535700000</td>\n",
       "      <td>2010</td>\n",
       "    </tr>\n",
       "    <tr>\n",
       "      <th>4</th>\n",
       "      <td>Shrek Forever After</td>\n",
       "      <td>P/DW</td>\n",
       "      <td>238700000.0</td>\n",
       "      <td>513900000</td>\n",
       "      <td>2010</td>\n",
       "    </tr>\n",
       "  </tbody>\n",
       "</table>\n",
       "</div>"
      ],
      "text/plain": [
       "                                         title studio  domestic_gross  \\\n",
       "0                                  Toy Story 3     BV     415000000.0   \n",
       "1                   Alice in Wonderland (2010)     BV     334200000.0   \n",
       "2  Harry Potter and the Deathly Hallows Part 1     WB     296000000.0   \n",
       "3                                    Inception     WB     292600000.0   \n",
       "4                          Shrek Forever After   P/DW     238700000.0   \n",
       "\n",
       "  foreign_gross  year  \n",
       "0     652000000  2010  \n",
       "1     691300000  2010  \n",
       "2     664300000  2010  \n",
       "3     535700000  2010  \n",
       "4     513900000  2010  "
      ]
     },
     "execution_count": 5,
     "metadata": {},
     "output_type": "execute_result"
    }
   ],
   "source": [
    "bom_data.head()"
   ]
  },
  {
   "cell_type": "markdown",
   "id": "d8880b9c",
   "metadata": {},
   "source": [
    "I found out, on google, that <b>domestic gross</b> is the amount of money a movie made specifically in Canada and in the US, while <b>foreign gross</b> is the amount of money a movie made outside of the previously specfied regions."
   ]
  },
  {
   "cell_type": "markdown",
   "id": "495a39b2",
   "metadata": {},
   "source": [
    "<hr>"
   ]
  },
  {
   "cell_type": "markdown",
   "id": "8aa49585",
   "metadata": {},
   "source": [
    "### Basic examination of the name basics dataset"
   ]
  },
  {
   "cell_type": "code",
   "execution_count": 39,
   "id": "b60751b8",
   "metadata": {},
   "outputs": [
    {
     "data": {
      "text/plain": [
       "(606648, 6)"
      ]
     },
     "execution_count": 39,
     "metadata": {},
     "output_type": "execute_result"
    }
   ],
   "source": [
    "nb_data.shape"
   ]
  },
  {
   "cell_type": "code",
   "execution_count": 14,
   "id": "18956413",
   "metadata": {},
   "outputs": [
    {
     "name": "stdout",
     "output_type": "stream",
     "text": [
      "<class 'pandas.core.frame.DataFrame'>\n",
      "RangeIndex: 606648 entries, 0 to 606647\n",
      "Data columns (total 6 columns):\n",
      " #   Column              Non-Null Count   Dtype  \n",
      "---  ------              --------------   -----  \n",
      " 0   nconst              606648 non-null  object \n",
      " 1   primary_name        606648 non-null  object \n",
      " 2   birth_year          82736 non-null   float64\n",
      " 3   death_year          6783 non-null    float64\n",
      " 4   primary_profession  555308 non-null  object \n",
      " 5   known_for_titles    576444 non-null  object \n",
      "dtypes: float64(2), object(4)\n",
      "memory usage: 27.8+ MB\n"
     ]
    }
   ],
   "source": [
    "nb_data.info()\n",
    "# I notice that the birth_year field for 523,912 records is missing\n",
    "#               the death_year field for 599,865 records is missing (assuming because most of the people arent dead yet)\n",
    "#               the primary_profession field for 51,340 records is missing\n",
    "#               the known_for_titles field for 30,204 records is missing"
   ]
  },
  {
   "cell_type": "code",
   "execution_count": 13,
   "id": "29d436e6",
   "metadata": {
    "scrolled": true
   },
   "outputs": [
    {
     "data": {
      "text/html": [
       "<div>\n",
       "<style scoped>\n",
       "    .dataframe tbody tr th:only-of-type {\n",
       "        vertical-align: middle;\n",
       "    }\n",
       "\n",
       "    .dataframe tbody tr th {\n",
       "        vertical-align: top;\n",
       "    }\n",
       "\n",
       "    .dataframe thead th {\n",
       "        text-align: right;\n",
       "    }\n",
       "</style>\n",
       "<table border=\"1\" class=\"dataframe\">\n",
       "  <thead>\n",
       "    <tr style=\"text-align: right;\">\n",
       "      <th></th>\n",
       "      <th>nconst</th>\n",
       "      <th>primary_name</th>\n",
       "      <th>birth_year</th>\n",
       "      <th>death_year</th>\n",
       "      <th>primary_profession</th>\n",
       "      <th>known_for_titles</th>\n",
       "    </tr>\n",
       "  </thead>\n",
       "  <tbody>\n",
       "    <tr>\n",
       "      <th>0</th>\n",
       "      <td>nm0061671</td>\n",
       "      <td>Mary Ellen Bauder</td>\n",
       "      <td>NaN</td>\n",
       "      <td>NaN</td>\n",
       "      <td>miscellaneous,production_manager,producer</td>\n",
       "      <td>tt0837562,tt2398241,tt0844471,tt0118553</td>\n",
       "    </tr>\n",
       "    <tr>\n",
       "      <th>1</th>\n",
       "      <td>nm0061865</td>\n",
       "      <td>Joseph Bauer</td>\n",
       "      <td>NaN</td>\n",
       "      <td>NaN</td>\n",
       "      <td>composer,music_department,sound_department</td>\n",
       "      <td>tt0896534,tt6791238,tt0287072,tt1682940</td>\n",
       "    </tr>\n",
       "    <tr>\n",
       "      <th>2</th>\n",
       "      <td>nm0062070</td>\n",
       "      <td>Bruce Baum</td>\n",
       "      <td>NaN</td>\n",
       "      <td>NaN</td>\n",
       "      <td>miscellaneous,actor,writer</td>\n",
       "      <td>tt1470654,tt0363631,tt0104030,tt0102898</td>\n",
       "    </tr>\n",
       "    <tr>\n",
       "      <th>3</th>\n",
       "      <td>nm0062195</td>\n",
       "      <td>Axel Baumann</td>\n",
       "      <td>NaN</td>\n",
       "      <td>NaN</td>\n",
       "      <td>camera_department,cinematographer,art_department</td>\n",
       "      <td>tt0114371,tt2004304,tt1618448,tt1224387</td>\n",
       "    </tr>\n",
       "    <tr>\n",
       "      <th>4</th>\n",
       "      <td>nm0062798</td>\n",
       "      <td>Pete Baxter</td>\n",
       "      <td>NaN</td>\n",
       "      <td>NaN</td>\n",
       "      <td>production_designer,art_department,set_decorator</td>\n",
       "      <td>tt0452644,tt0452692,tt3458030,tt2178256</td>\n",
       "    </tr>\n",
       "  </tbody>\n",
       "</table>\n",
       "</div>"
      ],
      "text/plain": [
       "      nconst       primary_name  birth_year  death_year  \\\n",
       "0  nm0061671  Mary Ellen Bauder         NaN         NaN   \n",
       "1  nm0061865       Joseph Bauer         NaN         NaN   \n",
       "2  nm0062070         Bruce Baum         NaN         NaN   \n",
       "3  nm0062195       Axel Baumann         NaN         NaN   \n",
       "4  nm0062798        Pete Baxter         NaN         NaN   \n",
       "\n",
       "                                 primary_profession  \\\n",
       "0         miscellaneous,production_manager,producer   \n",
       "1        composer,music_department,sound_department   \n",
       "2                        miscellaneous,actor,writer   \n",
       "3  camera_department,cinematographer,art_department   \n",
       "4  production_designer,art_department,set_decorator   \n",
       "\n",
       "                          known_for_titles  \n",
       "0  tt0837562,tt2398241,tt0844471,tt0118553  \n",
       "1  tt0896534,tt6791238,tt0287072,tt1682940  \n",
       "2  tt1470654,tt0363631,tt0104030,tt0102898  \n",
       "3  tt0114371,tt2004304,tt1618448,tt1224387  \n",
       "4  tt0452644,tt0452692,tt3458030,tt2178256  "
      ]
     },
     "execution_count": 13,
     "metadata": {},
     "output_type": "execute_result"
    }
   ],
   "source": [
    "nb_data.head()"
   ]
  },
  {
   "cell_type": "markdown",
   "id": "9e1296d3",
   "metadata": {},
   "source": [
    "From examination of the name_basics dataset, we can see that it is a dataset about people involved in the movie industry."
   ]
  },
  {
   "cell_type": "markdown",
   "id": "f4bee3c1",
   "metadata": {},
   "source": [
    "<hr>"
   ]
  },
  {
   "cell_type": "markdown",
   "id": "ca94abfc",
   "metadata": {},
   "source": [
    "### Basic examination of the movie_info dataset"
   ]
  },
  {
   "cell_type": "code",
   "execution_count": 40,
   "id": "00af494b",
   "metadata": {},
   "outputs": [
    {
     "data": {
      "text/plain": [
       "(1560, 12)"
      ]
     },
     "execution_count": 40,
     "metadata": {},
     "output_type": "execute_result"
    }
   ],
   "source": [
    "movie_info.shape"
   ]
  },
  {
   "cell_type": "code",
   "execution_count": 42,
   "id": "5b75a923",
   "metadata": {
    "scrolled": false
   },
   "outputs": [
    {
     "name": "stdout",
     "output_type": "stream",
     "text": [
      "<class 'pandas.core.frame.DataFrame'>\n",
      "RangeIndex: 1560 entries, 0 to 1559\n",
      "Data columns (total 12 columns):\n",
      " #   Column        Non-Null Count  Dtype \n",
      "---  ------        --------------  ----- \n",
      " 0   id            1560 non-null   int64 \n",
      " 1   synopsis      1498 non-null   object\n",
      " 2   rating        1557 non-null   object\n",
      " 3   genre         1552 non-null   object\n",
      " 4   director      1361 non-null   object\n",
      " 5   writer        1111 non-null   object\n",
      " 6   theater_date  1201 non-null   object\n",
      " 7   dvd_date      1201 non-null   object\n",
      " 8   currency      340 non-null    object\n",
      " 9   box_office    340 non-null    object\n",
      " 10  runtime       1530 non-null   object\n",
      " 11  studio        494 non-null    object\n",
      "dtypes: int64(1), object(11)\n",
      "memory usage: 146.4+ KB\n"
     ]
    }
   ],
   "source": [
    "movie_info.info()"
   ]
  },
  {
   "cell_type": "code",
   "execution_count": 43,
   "id": "03df0156",
   "metadata": {
    "scrolled": false
   },
   "outputs": [
    {
     "data": {
      "text/html": [
       "<div>\n",
       "<style scoped>\n",
       "    .dataframe tbody tr th:only-of-type {\n",
       "        vertical-align: middle;\n",
       "    }\n",
       "\n",
       "    .dataframe tbody tr th {\n",
       "        vertical-align: top;\n",
       "    }\n",
       "\n",
       "    .dataframe thead th {\n",
       "        text-align: right;\n",
       "    }\n",
       "</style>\n",
       "<table border=\"1\" class=\"dataframe\">\n",
       "  <thead>\n",
       "    <tr style=\"text-align: right;\">\n",
       "      <th></th>\n",
       "      <th>id</th>\n",
       "      <th>synopsis</th>\n",
       "      <th>rating</th>\n",
       "      <th>genre</th>\n",
       "      <th>director</th>\n",
       "      <th>writer</th>\n",
       "      <th>theater_date</th>\n",
       "      <th>dvd_date</th>\n",
       "      <th>currency</th>\n",
       "      <th>box_office</th>\n",
       "      <th>runtime</th>\n",
       "      <th>studio</th>\n",
       "    </tr>\n",
       "  </thead>\n",
       "  <tbody>\n",
       "    <tr>\n",
       "      <th>0</th>\n",
       "      <td>1</td>\n",
       "      <td>This gritty, fast-paced, and innovative police...</td>\n",
       "      <td>R</td>\n",
       "      <td>Action and Adventure|Classics|Drama</td>\n",
       "      <td>William Friedkin</td>\n",
       "      <td>Ernest Tidyman</td>\n",
       "      <td>Oct 9, 1971</td>\n",
       "      <td>Sep 25, 2001</td>\n",
       "      <td>NaN</td>\n",
       "      <td>NaN</td>\n",
       "      <td>104 minutes</td>\n",
       "      <td>NaN</td>\n",
       "    </tr>\n",
       "    <tr>\n",
       "      <th>1</th>\n",
       "      <td>3</td>\n",
       "      <td>New York City, not-too-distant-future: Eric Pa...</td>\n",
       "      <td>R</td>\n",
       "      <td>Drama|Science Fiction and Fantasy</td>\n",
       "      <td>David Cronenberg</td>\n",
       "      <td>David Cronenberg|Don DeLillo</td>\n",
       "      <td>Aug 17, 2012</td>\n",
       "      <td>Jan 1, 2013</td>\n",
       "      <td>$</td>\n",
       "      <td>600,000</td>\n",
       "      <td>108 minutes</td>\n",
       "      <td>Entertainment One</td>\n",
       "    </tr>\n",
       "    <tr>\n",
       "      <th>2</th>\n",
       "      <td>5</td>\n",
       "      <td>Illeana Douglas delivers a superb performance ...</td>\n",
       "      <td>R</td>\n",
       "      <td>Drama|Musical and Performing Arts</td>\n",
       "      <td>Allison Anders</td>\n",
       "      <td>Allison Anders</td>\n",
       "      <td>Sep 13, 1996</td>\n",
       "      <td>Apr 18, 2000</td>\n",
       "      <td>NaN</td>\n",
       "      <td>NaN</td>\n",
       "      <td>116 minutes</td>\n",
       "      <td>NaN</td>\n",
       "    </tr>\n",
       "    <tr>\n",
       "      <th>3</th>\n",
       "      <td>6</td>\n",
       "      <td>Michael Douglas runs afoul of a treacherous su...</td>\n",
       "      <td>R</td>\n",
       "      <td>Drama|Mystery and Suspense</td>\n",
       "      <td>Barry Levinson</td>\n",
       "      <td>Paul Attanasio|Michael Crichton</td>\n",
       "      <td>Dec 9, 1994</td>\n",
       "      <td>Aug 27, 1997</td>\n",
       "      <td>NaN</td>\n",
       "      <td>NaN</td>\n",
       "      <td>128 minutes</td>\n",
       "      <td>NaN</td>\n",
       "    </tr>\n",
       "    <tr>\n",
       "      <th>4</th>\n",
       "      <td>7</td>\n",
       "      <td>NaN</td>\n",
       "      <td>NR</td>\n",
       "      <td>Drama|Romance</td>\n",
       "      <td>Rodney Bennett</td>\n",
       "      <td>Giles Cooper</td>\n",
       "      <td>NaN</td>\n",
       "      <td>NaN</td>\n",
       "      <td>NaN</td>\n",
       "      <td>NaN</td>\n",
       "      <td>200 minutes</td>\n",
       "      <td>NaN</td>\n",
       "    </tr>\n",
       "  </tbody>\n",
       "</table>\n",
       "</div>"
      ],
      "text/plain": [
       "   id                                           synopsis rating  \\\n",
       "0   1  This gritty, fast-paced, and innovative police...      R   \n",
       "1   3  New York City, not-too-distant-future: Eric Pa...      R   \n",
       "2   5  Illeana Douglas delivers a superb performance ...      R   \n",
       "3   6  Michael Douglas runs afoul of a treacherous su...      R   \n",
       "4   7                                                NaN     NR   \n",
       "\n",
       "                                 genre          director  \\\n",
       "0  Action and Adventure|Classics|Drama  William Friedkin   \n",
       "1    Drama|Science Fiction and Fantasy  David Cronenberg   \n",
       "2    Drama|Musical and Performing Arts    Allison Anders   \n",
       "3           Drama|Mystery and Suspense    Barry Levinson   \n",
       "4                        Drama|Romance    Rodney Bennett   \n",
       "\n",
       "                            writer  theater_date      dvd_date currency  \\\n",
       "0                   Ernest Tidyman   Oct 9, 1971  Sep 25, 2001      NaN   \n",
       "1     David Cronenberg|Don DeLillo  Aug 17, 2012   Jan 1, 2013        $   \n",
       "2                   Allison Anders  Sep 13, 1996  Apr 18, 2000      NaN   \n",
       "3  Paul Attanasio|Michael Crichton   Dec 9, 1994  Aug 27, 1997      NaN   \n",
       "4                     Giles Cooper           NaN           NaN      NaN   \n",
       "\n",
       "  box_office      runtime             studio  \n",
       "0        NaN  104 minutes                NaN  \n",
       "1    600,000  108 minutes  Entertainment One  \n",
       "2        NaN  116 minutes                NaN  \n",
       "3        NaN  128 minutes                NaN  \n",
       "4        NaN  200 minutes                NaN  "
      ]
     },
     "execution_count": 43,
     "metadata": {},
     "output_type": "execute_result"
    }
   ],
   "source": [
    "movie_info.head()"
   ]
  },
  {
   "cell_type": "markdown",
   "id": "3c526357",
   "metadata": {},
   "source": [
    "<hr>"
   ]
  },
  {
   "cell_type": "markdown",
   "id": "92d6e2b3",
   "metadata": {},
   "source": [
    "### Basic examination of the review_data dataset"
   ]
  },
  {
   "cell_type": "code",
   "execution_count": 48,
   "id": "a599c4f1",
   "metadata": {},
   "outputs": [
    {
     "data": {
      "text/plain": [
       "(54432, 8)"
      ]
     },
     "execution_count": 48,
     "metadata": {},
     "output_type": "execute_result"
    }
   ],
   "source": [
    "review_data.shape"
   ]
  },
  {
   "cell_type": "code",
   "execution_count": 49,
   "id": "87fc3f5c",
   "metadata": {},
   "outputs": [
    {
     "name": "stdout",
     "output_type": "stream",
     "text": [
      "<class 'pandas.core.frame.DataFrame'>\n",
      "RangeIndex: 54432 entries, 0 to 54431\n",
      "Data columns (total 8 columns):\n",
      " #   Column      Non-Null Count  Dtype \n",
      "---  ------      --------------  ----- \n",
      " 0   id          54432 non-null  int64 \n",
      " 1   review      48869 non-null  object\n",
      " 2   rating      40915 non-null  object\n",
      " 3   fresh       54432 non-null  object\n",
      " 4   critic      51710 non-null  object\n",
      " 5   top_critic  54432 non-null  int64 \n",
      " 6   publisher   54123 non-null  object\n",
      " 7   date        54432 non-null  object\n",
      "dtypes: int64(2), object(6)\n",
      "memory usage: 3.3+ MB\n"
     ]
    }
   ],
   "source": [
    "review_data.info()"
   ]
  },
  {
   "cell_type": "code",
   "execution_count": 50,
   "id": "78866213",
   "metadata": {},
   "outputs": [
    {
     "data": {
      "text/html": [
       "<div>\n",
       "<style scoped>\n",
       "    .dataframe tbody tr th:only-of-type {\n",
       "        vertical-align: middle;\n",
       "    }\n",
       "\n",
       "    .dataframe tbody tr th {\n",
       "        vertical-align: top;\n",
       "    }\n",
       "\n",
       "    .dataframe thead th {\n",
       "        text-align: right;\n",
       "    }\n",
       "</style>\n",
       "<table border=\"1\" class=\"dataframe\">\n",
       "  <thead>\n",
       "    <tr style=\"text-align: right;\">\n",
       "      <th></th>\n",
       "      <th>id</th>\n",
       "      <th>review</th>\n",
       "      <th>rating</th>\n",
       "      <th>fresh</th>\n",
       "      <th>critic</th>\n",
       "      <th>top_critic</th>\n",
       "      <th>publisher</th>\n",
       "      <th>date</th>\n",
       "    </tr>\n",
       "  </thead>\n",
       "  <tbody>\n",
       "    <tr>\n",
       "      <th>0</th>\n",
       "      <td>3</td>\n",
       "      <td>A distinctly gallows take on contemporary fina...</td>\n",
       "      <td>3/5</td>\n",
       "      <td>fresh</td>\n",
       "      <td>PJ Nabarro</td>\n",
       "      <td>0</td>\n",
       "      <td>Patrick Nabarro</td>\n",
       "      <td>November 10, 2018</td>\n",
       "    </tr>\n",
       "    <tr>\n",
       "      <th>1</th>\n",
       "      <td>3</td>\n",
       "      <td>It's an allegory in search of a meaning that n...</td>\n",
       "      <td>NaN</td>\n",
       "      <td>rotten</td>\n",
       "      <td>Annalee Newitz</td>\n",
       "      <td>0</td>\n",
       "      <td>io9.com</td>\n",
       "      <td>May 23, 2018</td>\n",
       "    </tr>\n",
       "    <tr>\n",
       "      <th>2</th>\n",
       "      <td>3</td>\n",
       "      <td>... life lived in a bubble in financial dealin...</td>\n",
       "      <td>NaN</td>\n",
       "      <td>fresh</td>\n",
       "      <td>Sean Axmaker</td>\n",
       "      <td>0</td>\n",
       "      <td>Stream on Demand</td>\n",
       "      <td>January 4, 2018</td>\n",
       "    </tr>\n",
       "    <tr>\n",
       "      <th>3</th>\n",
       "      <td>3</td>\n",
       "      <td>Continuing along a line introduced in last yea...</td>\n",
       "      <td>NaN</td>\n",
       "      <td>fresh</td>\n",
       "      <td>Daniel Kasman</td>\n",
       "      <td>0</td>\n",
       "      <td>MUBI</td>\n",
       "      <td>November 16, 2017</td>\n",
       "    </tr>\n",
       "    <tr>\n",
       "      <th>4</th>\n",
       "      <td>3</td>\n",
       "      <td>... a perverse twist on neorealism...</td>\n",
       "      <td>NaN</td>\n",
       "      <td>fresh</td>\n",
       "      <td>NaN</td>\n",
       "      <td>0</td>\n",
       "      <td>Cinema Scope</td>\n",
       "      <td>October 12, 2017</td>\n",
       "    </tr>\n",
       "  </tbody>\n",
       "</table>\n",
       "</div>"
      ],
      "text/plain": [
       "   id                                             review rating   fresh  \\\n",
       "0   3  A distinctly gallows take on contemporary fina...    3/5   fresh   \n",
       "1   3  It's an allegory in search of a meaning that n...    NaN  rotten   \n",
       "2   3  ... life lived in a bubble in financial dealin...    NaN   fresh   \n",
       "3   3  Continuing along a line introduced in last yea...    NaN   fresh   \n",
       "4   3             ... a perverse twist on neorealism...     NaN   fresh   \n",
       "\n",
       "           critic  top_critic         publisher               date  \n",
       "0      PJ Nabarro           0   Patrick Nabarro  November 10, 2018  \n",
       "1  Annalee Newitz           0           io9.com       May 23, 2018  \n",
       "2    Sean Axmaker           0  Stream on Demand    January 4, 2018  \n",
       "3   Daniel Kasman           0              MUBI  November 16, 2017  \n",
       "4             NaN           0      Cinema Scope   October 12, 2017  "
      ]
     },
     "execution_count": 50,
     "metadata": {},
     "output_type": "execute_result"
    }
   ],
   "source": [
    "review_data.head()"
   ]
  },
  {
   "cell_type": "markdown",
   "id": "c7eb1403",
   "metadata": {},
   "source": [
    "I realize that this dataset contains reviews of movie critics, not just normal audiences."
   ]
  },
  {
   "cell_type": "markdown",
   "id": "965c01dc",
   "metadata": {},
   "source": [
    "<hr>"
   ]
  },
  {
   "cell_type": "markdown",
   "id": "3a4d303b",
   "metadata": {},
   "source": [
    "### Basic examination of the title akas dataset"
   ]
  },
  {
   "cell_type": "code",
   "execution_count": 54,
   "id": "45711ac1",
   "metadata": {},
   "outputs": [
    {
     "data": {
      "text/plain": [
       "(331703, 8)"
      ]
     },
     "execution_count": 54,
     "metadata": {},
     "output_type": "execute_result"
    }
   ],
   "source": [
    "title_akas.shape"
   ]
  },
  {
   "cell_type": "code",
   "execution_count": 55,
   "id": "65a4b74f",
   "metadata": {},
   "outputs": [
    {
     "name": "stdout",
     "output_type": "stream",
     "text": [
      "<class 'pandas.core.frame.DataFrame'>\n",
      "RangeIndex: 331703 entries, 0 to 331702\n",
      "Data columns (total 8 columns):\n",
      " #   Column             Non-Null Count   Dtype  \n",
      "---  ------             --------------   -----  \n",
      " 0   title_id           331703 non-null  object \n",
      " 1   ordering           331703 non-null  int64  \n",
      " 2   title              331703 non-null  object \n",
      " 3   region             278410 non-null  object \n",
      " 4   language           41715 non-null   object \n",
      " 5   types              168447 non-null  object \n",
      " 6   attributes         14925 non-null   object \n",
      " 7   is_original_title  331678 non-null  float64\n",
      "dtypes: float64(1), int64(1), object(6)\n",
      "memory usage: 20.2+ MB\n"
     ]
    }
   ],
   "source": [
    "title_akas.info()"
   ]
  },
  {
   "cell_type": "code",
   "execution_count": 57,
   "id": "cd6abec7",
   "metadata": {
    "scrolled": true
   },
   "outputs": [
    {
     "data": {
      "text/html": [
       "<div>\n",
       "<style scoped>\n",
       "    .dataframe tbody tr th:only-of-type {\n",
       "        vertical-align: middle;\n",
       "    }\n",
       "\n",
       "    .dataframe tbody tr th {\n",
       "        vertical-align: top;\n",
       "    }\n",
       "\n",
       "    .dataframe thead th {\n",
       "        text-align: right;\n",
       "    }\n",
       "</style>\n",
       "<table border=\"1\" class=\"dataframe\">\n",
       "  <thead>\n",
       "    <tr style=\"text-align: right;\">\n",
       "      <th></th>\n",
       "      <th>title_id</th>\n",
       "      <th>ordering</th>\n",
       "      <th>title</th>\n",
       "      <th>region</th>\n",
       "      <th>language</th>\n",
       "      <th>types</th>\n",
       "      <th>attributes</th>\n",
       "      <th>is_original_title</th>\n",
       "    </tr>\n",
       "  </thead>\n",
       "  <tbody>\n",
       "    <tr>\n",
       "      <th>0</th>\n",
       "      <td>tt0369610</td>\n",
       "      <td>10</td>\n",
       "      <td>Джурасик свят</td>\n",
       "      <td>BG</td>\n",
       "      <td>bg</td>\n",
       "      <td>NaN</td>\n",
       "      <td>NaN</td>\n",
       "      <td>0.0</td>\n",
       "    </tr>\n",
       "    <tr>\n",
       "      <th>1</th>\n",
       "      <td>tt0369610</td>\n",
       "      <td>11</td>\n",
       "      <td>Jurashikku warudo</td>\n",
       "      <td>JP</td>\n",
       "      <td>NaN</td>\n",
       "      <td>imdbDisplay</td>\n",
       "      <td>NaN</td>\n",
       "      <td>0.0</td>\n",
       "    </tr>\n",
       "    <tr>\n",
       "      <th>2</th>\n",
       "      <td>tt0369610</td>\n",
       "      <td>12</td>\n",
       "      <td>Jurassic World: O Mundo dos Dinossauros</td>\n",
       "      <td>BR</td>\n",
       "      <td>NaN</td>\n",
       "      <td>imdbDisplay</td>\n",
       "      <td>NaN</td>\n",
       "      <td>0.0</td>\n",
       "    </tr>\n",
       "    <tr>\n",
       "      <th>3</th>\n",
       "      <td>tt0369610</td>\n",
       "      <td>13</td>\n",
       "      <td>O Mundo dos Dinossauros</td>\n",
       "      <td>BR</td>\n",
       "      <td>NaN</td>\n",
       "      <td>NaN</td>\n",
       "      <td>short title</td>\n",
       "      <td>0.0</td>\n",
       "    </tr>\n",
       "    <tr>\n",
       "      <th>4</th>\n",
       "      <td>tt0369610</td>\n",
       "      <td>14</td>\n",
       "      <td>Jurassic World</td>\n",
       "      <td>FR</td>\n",
       "      <td>NaN</td>\n",
       "      <td>imdbDisplay</td>\n",
       "      <td>NaN</td>\n",
       "      <td>0.0</td>\n",
       "    </tr>\n",
       "    <tr>\n",
       "      <th>5</th>\n",
       "      <td>tt0369610</td>\n",
       "      <td>15</td>\n",
       "      <td>Jurassic World</td>\n",
       "      <td>GR</td>\n",
       "      <td>NaN</td>\n",
       "      <td>imdbDisplay</td>\n",
       "      <td>NaN</td>\n",
       "      <td>0.0</td>\n",
       "    </tr>\n",
       "    <tr>\n",
       "      <th>6</th>\n",
       "      <td>tt0369610</td>\n",
       "      <td>16</td>\n",
       "      <td>Jurassic World</td>\n",
       "      <td>IT</td>\n",
       "      <td>NaN</td>\n",
       "      <td>imdbDisplay</td>\n",
       "      <td>NaN</td>\n",
       "      <td>0.0</td>\n",
       "    </tr>\n",
       "    <tr>\n",
       "      <th>7</th>\n",
       "      <td>tt0369610</td>\n",
       "      <td>17</td>\n",
       "      <td>Jurski svijet</td>\n",
       "      <td>HR</td>\n",
       "      <td>NaN</td>\n",
       "      <td>imdbDisplay</td>\n",
       "      <td>NaN</td>\n",
       "      <td>0.0</td>\n",
       "    </tr>\n",
       "    <tr>\n",
       "      <th>8</th>\n",
       "      <td>tt0369610</td>\n",
       "      <td>18</td>\n",
       "      <td>Olam ha'Yura</td>\n",
       "      <td>IL</td>\n",
       "      <td>he</td>\n",
       "      <td>imdbDisplay</td>\n",
       "      <td>NaN</td>\n",
       "      <td>0.0</td>\n",
       "    </tr>\n",
       "    <tr>\n",
       "      <th>9</th>\n",
       "      <td>tt0369610</td>\n",
       "      <td>19</td>\n",
       "      <td>Jurassic World: Mundo Jurásico</td>\n",
       "      <td>MX</td>\n",
       "      <td>NaN</td>\n",
       "      <td>imdbDisplay</td>\n",
       "      <td>NaN</td>\n",
       "      <td>0.0</td>\n",
       "    </tr>\n",
       "    <tr>\n",
       "      <th>10</th>\n",
       "      <td>tt0369610</td>\n",
       "      <td>1</td>\n",
       "      <td>Jurassic World: Sauruste maailm</td>\n",
       "      <td>EE</td>\n",
       "      <td>NaN</td>\n",
       "      <td>imdbDisplay</td>\n",
       "      <td>NaN</td>\n",
       "      <td>0.0</td>\n",
       "    </tr>\n",
       "    <tr>\n",
       "      <th>11</th>\n",
       "      <td>tt0369610</td>\n",
       "      <td>20</td>\n",
       "      <td>Jurassic World</td>\n",
       "      <td>SE</td>\n",
       "      <td>NaN</td>\n",
       "      <td>imdbDisplay</td>\n",
       "      <td>NaN</td>\n",
       "      <td>0.0</td>\n",
       "    </tr>\n",
       "    <tr>\n",
       "      <th>12</th>\n",
       "      <td>tt0369610</td>\n",
       "      <td>21</td>\n",
       "      <td>Jurassic World 3D</td>\n",
       "      <td>US</td>\n",
       "      <td>NaN</td>\n",
       "      <td>NaN</td>\n",
       "      <td>3-D version</td>\n",
       "      <td>0.0</td>\n",
       "    </tr>\n",
       "    <tr>\n",
       "      <th>13</th>\n",
       "      <td>tt0369610</td>\n",
       "      <td>22</td>\n",
       "      <td>Jurassic World 3D</td>\n",
       "      <td>DE</td>\n",
       "      <td>NaN</td>\n",
       "      <td>NaN</td>\n",
       "      <td>3-D version</td>\n",
       "      <td>0.0</td>\n",
       "    </tr>\n",
       "    <tr>\n",
       "      <th>14</th>\n",
       "      <td>tt0369610</td>\n",
       "      <td>23</td>\n",
       "      <td>Jurassic World 3D</td>\n",
       "      <td>XWW</td>\n",
       "      <td>NaN</td>\n",
       "      <td>NaN</td>\n",
       "      <td>3-D version</td>\n",
       "      <td>0.0</td>\n",
       "    </tr>\n",
       "  </tbody>\n",
       "</table>\n",
       "</div>"
      ],
      "text/plain": [
       "     title_id  ordering                                    title region  \\\n",
       "0   tt0369610        10                            Джурасик свят     BG   \n",
       "1   tt0369610        11                        Jurashikku warudo     JP   \n",
       "2   tt0369610        12  Jurassic World: O Mundo dos Dinossauros     BR   \n",
       "3   tt0369610        13                  O Mundo dos Dinossauros     BR   \n",
       "4   tt0369610        14                           Jurassic World     FR   \n",
       "5   tt0369610        15                           Jurassic World     GR   \n",
       "6   tt0369610        16                           Jurassic World     IT   \n",
       "7   tt0369610        17                            Jurski svijet     HR   \n",
       "8   tt0369610        18                             Olam ha'Yura     IL   \n",
       "9   tt0369610        19           Jurassic World: Mundo Jurásico     MX   \n",
       "10  tt0369610         1          Jurassic World: Sauruste maailm     EE   \n",
       "11  tt0369610        20                           Jurassic World     SE   \n",
       "12  tt0369610        21                        Jurassic World 3D     US   \n",
       "13  tt0369610        22                        Jurassic World 3D     DE   \n",
       "14  tt0369610        23                        Jurassic World 3D    XWW   \n",
       "\n",
       "   language        types   attributes  is_original_title  \n",
       "0        bg          NaN          NaN                0.0  \n",
       "1       NaN  imdbDisplay          NaN                0.0  \n",
       "2       NaN  imdbDisplay          NaN                0.0  \n",
       "3       NaN          NaN  short title                0.0  \n",
       "4       NaN  imdbDisplay          NaN                0.0  \n",
       "5       NaN  imdbDisplay          NaN                0.0  \n",
       "6       NaN  imdbDisplay          NaN                0.0  \n",
       "7       NaN  imdbDisplay          NaN                0.0  \n",
       "8        he  imdbDisplay          NaN                0.0  \n",
       "9       NaN  imdbDisplay          NaN                0.0  \n",
       "10      NaN  imdbDisplay          NaN                0.0  \n",
       "11      NaN  imdbDisplay          NaN                0.0  \n",
       "12      NaN          NaN  3-D version                0.0  \n",
       "13      NaN          NaN  3-D version                0.0  \n",
       "14      NaN          NaN  3-D version                0.0  "
      ]
     },
     "execution_count": 57,
     "metadata": {},
     "output_type": "execute_result"
    }
   ],
   "source": [
    "title_akas.head(15)"
   ]
  },
  {
   "cell_type": "markdown",
   "id": "e03301fb",
   "metadata": {},
   "source": [
    "I notice that the <b>title_id</b>, has repeting values and decide to investigate. I notice that the 'Jurassic World' movie title, is repeated multiple times because of different languages/regions of production as well as different versions such as 3D. <br>\n",
    "\n",
    "I conclude that the <b>title_id</b> repeats because there are different variations of the same movie <br>\n",
    "\n",
    "What does the <b>ordering</b> column represent in the akas dataset? "
   ]
  },
  {
   "cell_type": "code",
   "execution_count": 68,
   "id": "f10d4ac8",
   "metadata": {
    "scrolled": true
   },
   "outputs": [
    {
     "data": {
      "text/plain": [
       "21     2\n",
       "22    30\n",
       "23    31\n",
       "24    32\n",
       "25    33\n",
       "26    34\n",
       "27    35\n",
       "28    36\n",
       "29    37\n",
       "30    38\n",
       "31    39\n",
       "32     3\n",
       "33    40\n",
       "34    41\n",
       "Name: ordering, dtype: int64"
      ]
     },
     "execution_count": 68,
     "metadata": {},
     "output_type": "execute_result"
    }
   ],
   "source": [
    "title_akas['ordering'][21:35]"
   ]
  },
  {
   "cell_type": "markdown",
   "id": "6abd6dd8",
   "metadata": {},
   "source": [
    "It seems to be some sort of indexing/ record identification system"
   ]
  },
  {
   "cell_type": "markdown",
   "id": "19c460ee",
   "metadata": {},
   "source": [
    "<hr>"
   ]
  },
  {
   "cell_type": "markdown",
   "id": "c0945c44",
   "metadata": {},
   "source": [
    "### Basic examination of the title basics dataset"
   ]
  },
  {
   "cell_type": "code",
   "execution_count": 60,
   "id": "ad9f97e1",
   "metadata": {},
   "outputs": [
    {
     "data": {
      "text/plain": [
       "(146144, 6)"
      ]
     },
     "execution_count": 60,
     "metadata": {},
     "output_type": "execute_result"
    }
   ],
   "source": [
    "title_basics.shape"
   ]
  },
  {
   "cell_type": "code",
   "execution_count": 61,
   "id": "0008546f",
   "metadata": {},
   "outputs": [
    {
     "name": "stdout",
     "output_type": "stream",
     "text": [
      "<class 'pandas.core.frame.DataFrame'>\n",
      "RangeIndex: 146144 entries, 0 to 146143\n",
      "Data columns (total 6 columns):\n",
      " #   Column           Non-Null Count   Dtype  \n",
      "---  ------           --------------   -----  \n",
      " 0   tconst           146144 non-null  object \n",
      " 1   primary_title    146144 non-null  object \n",
      " 2   original_title   146123 non-null  object \n",
      " 3   start_year       146144 non-null  int64  \n",
      " 4   runtime_minutes  114405 non-null  float64\n",
      " 5   genres           140736 non-null  object \n",
      "dtypes: float64(1), int64(1), object(4)\n",
      "memory usage: 6.7+ MB\n"
     ]
    }
   ],
   "source": [
    "title_basics.info()"
   ]
  },
  {
   "cell_type": "code",
   "execution_count": 72,
   "id": "c3e74b6d",
   "metadata": {},
   "outputs": [
    {
     "data": {
      "text/html": [
       "<div>\n",
       "<style scoped>\n",
       "    .dataframe tbody tr th:only-of-type {\n",
       "        vertical-align: middle;\n",
       "    }\n",
       "\n",
       "    .dataframe tbody tr th {\n",
       "        vertical-align: top;\n",
       "    }\n",
       "\n",
       "    .dataframe thead th {\n",
       "        text-align: right;\n",
       "    }\n",
       "</style>\n",
       "<table border=\"1\" class=\"dataframe\">\n",
       "  <thead>\n",
       "    <tr style=\"text-align: right;\">\n",
       "      <th></th>\n",
       "      <th>tconst</th>\n",
       "      <th>primary_title</th>\n",
       "      <th>original_title</th>\n",
       "      <th>start_year</th>\n",
       "      <th>runtime_minutes</th>\n",
       "      <th>genres</th>\n",
       "    </tr>\n",
       "  </thead>\n",
       "  <tbody>\n",
       "    <tr>\n",
       "      <th>146139</th>\n",
       "      <td>tt9916538</td>\n",
       "      <td>Kuambil Lagi Hatiku</td>\n",
       "      <td>Kuambil Lagi Hatiku</td>\n",
       "      <td>2019</td>\n",
       "      <td>123.0</td>\n",
       "      <td>Drama</td>\n",
       "    </tr>\n",
       "    <tr>\n",
       "      <th>146140</th>\n",
       "      <td>tt9916622</td>\n",
       "      <td>Rodolpho Teóphilo - O Legado de um Pioneiro</td>\n",
       "      <td>Rodolpho Teóphilo - O Legado de um Pioneiro</td>\n",
       "      <td>2015</td>\n",
       "      <td>NaN</td>\n",
       "      <td>Documentary</td>\n",
       "    </tr>\n",
       "    <tr>\n",
       "      <th>146141</th>\n",
       "      <td>tt9916706</td>\n",
       "      <td>Dankyavar Danka</td>\n",
       "      <td>Dankyavar Danka</td>\n",
       "      <td>2013</td>\n",
       "      <td>NaN</td>\n",
       "      <td>Comedy</td>\n",
       "    </tr>\n",
       "    <tr>\n",
       "      <th>146142</th>\n",
       "      <td>tt9916730</td>\n",
       "      <td>6 Gunn</td>\n",
       "      <td>6 Gunn</td>\n",
       "      <td>2017</td>\n",
       "      <td>116.0</td>\n",
       "      <td>NaN</td>\n",
       "    </tr>\n",
       "    <tr>\n",
       "      <th>146143</th>\n",
       "      <td>tt9916754</td>\n",
       "      <td>Chico Albuquerque - Revelações</td>\n",
       "      <td>Chico Albuquerque - Revelações</td>\n",
       "      <td>2013</td>\n",
       "      <td>NaN</td>\n",
       "      <td>Documentary</td>\n",
       "    </tr>\n",
       "  </tbody>\n",
       "</table>\n",
       "</div>"
      ],
      "text/plain": [
       "           tconst                                primary_title  \\\n",
       "146139  tt9916538                          Kuambil Lagi Hatiku   \n",
       "146140  tt9916622  Rodolpho Teóphilo - O Legado de um Pioneiro   \n",
       "146141  tt9916706                              Dankyavar Danka   \n",
       "146142  tt9916730                                       6 Gunn   \n",
       "146143  tt9916754               Chico Albuquerque - Revelações   \n",
       "\n",
       "                                     original_title  start_year  \\\n",
       "146139                          Kuambil Lagi Hatiku        2019   \n",
       "146140  Rodolpho Teóphilo - O Legado de um Pioneiro        2015   \n",
       "146141                              Dankyavar Danka        2013   \n",
       "146142                                       6 Gunn        2017   \n",
       "146143               Chico Albuquerque - Revelações        2013   \n",
       "\n",
       "        runtime_minutes       genres  \n",
       "146139            123.0        Drama  \n",
       "146140              NaN  Documentary  \n",
       "146141              NaN       Comedy  \n",
       "146142            116.0          NaN  \n",
       "146143              NaN  Documentary  "
      ]
     },
     "execution_count": 72,
     "metadata": {},
     "output_type": "execute_result"
    }
   ],
   "source": [
    "title_basics.tail()"
   ]
  },
  {
   "cell_type": "markdown",
   "id": "342fb7ff",
   "metadata": {},
   "source": [
    "<hr>"
   ]
  },
  {
   "cell_type": "markdown",
   "id": "78e27f24",
   "metadata": {},
   "source": [
    "### Basic examination of the title crew dataset"
   ]
  },
  {
   "cell_type": "code",
   "execution_count": 73,
   "id": "902026fa",
   "metadata": {
    "scrolled": true
   },
   "outputs": [
    {
     "data": {
      "text/plain": [
       "(146144, 3)"
      ]
     },
     "execution_count": 73,
     "metadata": {},
     "output_type": "execute_result"
    }
   ],
   "source": [
    "title_crew.shape"
   ]
  },
  {
   "cell_type": "code",
   "execution_count": 74,
   "id": "7b1d2466",
   "metadata": {},
   "outputs": [
    {
     "name": "stdout",
     "output_type": "stream",
     "text": [
      "<class 'pandas.core.frame.DataFrame'>\n",
      "RangeIndex: 146144 entries, 0 to 146143\n",
      "Data columns (total 3 columns):\n",
      " #   Column     Non-Null Count   Dtype \n",
      "---  ------     --------------   ----- \n",
      " 0   tconst     146144 non-null  object\n",
      " 1   directors  140417 non-null  object\n",
      " 2   writers    110261 non-null  object\n",
      "dtypes: object(3)\n",
      "memory usage: 3.3+ MB\n"
     ]
    }
   ],
   "source": [
    "title_crew.info()"
   ]
  },
  {
   "cell_type": "code",
   "execution_count": 75,
   "id": "140856d7",
   "metadata": {
    "scrolled": false
   },
   "outputs": [
    {
     "data": {
      "text/html": [
       "<div>\n",
       "<style scoped>\n",
       "    .dataframe tbody tr th:only-of-type {\n",
       "        vertical-align: middle;\n",
       "    }\n",
       "\n",
       "    .dataframe tbody tr th {\n",
       "        vertical-align: top;\n",
       "    }\n",
       "\n",
       "    .dataframe thead th {\n",
       "        text-align: right;\n",
       "    }\n",
       "</style>\n",
       "<table border=\"1\" class=\"dataframe\">\n",
       "  <thead>\n",
       "    <tr style=\"text-align: right;\">\n",
       "      <th></th>\n",
       "      <th>tconst</th>\n",
       "      <th>directors</th>\n",
       "      <th>writers</th>\n",
       "    </tr>\n",
       "  </thead>\n",
       "  <tbody>\n",
       "    <tr>\n",
       "      <th>0</th>\n",
       "      <td>tt0285252</td>\n",
       "      <td>nm0899854</td>\n",
       "      <td>nm0899854</td>\n",
       "    </tr>\n",
       "    <tr>\n",
       "      <th>1</th>\n",
       "      <td>tt0438973</td>\n",
       "      <td>NaN</td>\n",
       "      <td>nm0175726,nm1802864</td>\n",
       "    </tr>\n",
       "    <tr>\n",
       "      <th>2</th>\n",
       "      <td>tt0462036</td>\n",
       "      <td>nm1940585</td>\n",
       "      <td>nm1940585</td>\n",
       "    </tr>\n",
       "    <tr>\n",
       "      <th>3</th>\n",
       "      <td>tt0835418</td>\n",
       "      <td>nm0151540</td>\n",
       "      <td>nm0310087,nm0841532</td>\n",
       "    </tr>\n",
       "    <tr>\n",
       "      <th>4</th>\n",
       "      <td>tt0878654</td>\n",
       "      <td>nm0089502,nm2291498,nm2292011</td>\n",
       "      <td>nm0284943</td>\n",
       "    </tr>\n",
       "  </tbody>\n",
       "</table>\n",
       "</div>"
      ],
      "text/plain": [
       "      tconst                      directors              writers\n",
       "0  tt0285252                      nm0899854            nm0899854\n",
       "1  tt0438973                            NaN  nm0175726,nm1802864\n",
       "2  tt0462036                      nm1940585            nm1940585\n",
       "3  tt0835418                      nm0151540  nm0310087,nm0841532\n",
       "4  tt0878654  nm0089502,nm2291498,nm2292011            nm0284943"
      ]
     },
     "execution_count": 75,
     "metadata": {},
     "output_type": "execute_result"
    }
   ],
   "source": [
    "title_crew.head()"
   ]
  },
  {
   "cell_type": "markdown",
   "id": "cd5accfb",
   "metadata": {},
   "source": [
    "<hr>"
   ]
  },
  {
   "cell_type": "markdown",
   "id": "36e5cace",
   "metadata": {},
   "source": [
    "### Basic examination of the title principle dataset"
   ]
  },
  {
   "cell_type": "code",
   "execution_count": 76,
   "id": "c1011e06",
   "metadata": {},
   "outputs": [
    {
     "data": {
      "text/plain": [
       "(1028186, 6)"
      ]
     },
     "execution_count": 76,
     "metadata": {},
     "output_type": "execute_result"
    }
   ],
   "source": [
    "title_principles.shape"
   ]
  },
  {
   "cell_type": "code",
   "execution_count": 77,
   "id": "412bcfc2",
   "metadata": {
    "scrolled": true
   },
   "outputs": [
    {
     "name": "stdout",
     "output_type": "stream",
     "text": [
      "<class 'pandas.core.frame.DataFrame'>\n",
      "RangeIndex: 1028186 entries, 0 to 1028185\n",
      "Data columns (total 6 columns):\n",
      " #   Column      Non-Null Count    Dtype \n",
      "---  ------      --------------    ----- \n",
      " 0   tconst      1028186 non-null  object\n",
      " 1   ordering    1028186 non-null  int64 \n",
      " 2   nconst      1028186 non-null  object\n",
      " 3   category    1028186 non-null  object\n",
      " 4   job         177684 non-null   object\n",
      " 5   characters  393360 non-null   object\n",
      "dtypes: int64(1), object(5)\n",
      "memory usage: 47.1+ MB\n"
     ]
    }
   ],
   "source": [
    "title_principles.info()"
   ]
  },
  {
   "cell_type": "code",
   "execution_count": 80,
   "id": "b764500b",
   "metadata": {},
   "outputs": [
    {
     "data": {
      "text/html": [
       "<div>\n",
       "<style scoped>\n",
       "    .dataframe tbody tr th:only-of-type {\n",
       "        vertical-align: middle;\n",
       "    }\n",
       "\n",
       "    .dataframe tbody tr th {\n",
       "        vertical-align: top;\n",
       "    }\n",
       "\n",
       "    .dataframe thead th {\n",
       "        text-align: right;\n",
       "    }\n",
       "</style>\n",
       "<table border=\"1\" class=\"dataframe\">\n",
       "  <thead>\n",
       "    <tr style=\"text-align: right;\">\n",
       "      <th></th>\n",
       "      <th>tconst</th>\n",
       "      <th>ordering</th>\n",
       "      <th>nconst</th>\n",
       "      <th>category</th>\n",
       "      <th>job</th>\n",
       "      <th>characters</th>\n",
       "    </tr>\n",
       "  </thead>\n",
       "  <tbody>\n",
       "    <tr>\n",
       "      <th>0</th>\n",
       "      <td>tt0111414</td>\n",
       "      <td>1</td>\n",
       "      <td>nm0246005</td>\n",
       "      <td>actor</td>\n",
       "      <td>NaN</td>\n",
       "      <td>[\"The Man\"]</td>\n",
       "    </tr>\n",
       "    <tr>\n",
       "      <th>1</th>\n",
       "      <td>tt0111414</td>\n",
       "      <td>2</td>\n",
       "      <td>nm0398271</td>\n",
       "      <td>director</td>\n",
       "      <td>NaN</td>\n",
       "      <td>NaN</td>\n",
       "    </tr>\n",
       "    <tr>\n",
       "      <th>2</th>\n",
       "      <td>tt0111414</td>\n",
       "      <td>3</td>\n",
       "      <td>nm3739909</td>\n",
       "      <td>producer</td>\n",
       "      <td>producer</td>\n",
       "      <td>NaN</td>\n",
       "    </tr>\n",
       "    <tr>\n",
       "      <th>3</th>\n",
       "      <td>tt0323808</td>\n",
       "      <td>10</td>\n",
       "      <td>nm0059247</td>\n",
       "      <td>editor</td>\n",
       "      <td>NaN</td>\n",
       "      <td>NaN</td>\n",
       "    </tr>\n",
       "    <tr>\n",
       "      <th>4</th>\n",
       "      <td>tt0323808</td>\n",
       "      <td>1</td>\n",
       "      <td>nm3579312</td>\n",
       "      <td>actress</td>\n",
       "      <td>NaN</td>\n",
       "      <td>[\"Beth Boothby\"]</td>\n",
       "    </tr>\n",
       "    <tr>\n",
       "      <th>5</th>\n",
       "      <td>tt0323808</td>\n",
       "      <td>2</td>\n",
       "      <td>nm2694680</td>\n",
       "      <td>actor</td>\n",
       "      <td>NaN</td>\n",
       "      <td>[\"Steve Thomson\"]</td>\n",
       "    </tr>\n",
       "    <tr>\n",
       "      <th>6</th>\n",
       "      <td>tt0323808</td>\n",
       "      <td>3</td>\n",
       "      <td>nm0574615</td>\n",
       "      <td>actor</td>\n",
       "      <td>NaN</td>\n",
       "      <td>[\"Sir Lachlan Morrison\"]</td>\n",
       "    </tr>\n",
       "    <tr>\n",
       "      <th>7</th>\n",
       "      <td>tt0323808</td>\n",
       "      <td>4</td>\n",
       "      <td>nm0502652</td>\n",
       "      <td>actress</td>\n",
       "      <td>NaN</td>\n",
       "      <td>[\"Lady Delia Morrison\"]</td>\n",
       "    </tr>\n",
       "    <tr>\n",
       "      <th>8</th>\n",
       "      <td>tt0323808</td>\n",
       "      <td>5</td>\n",
       "      <td>nm0362736</td>\n",
       "      <td>director</td>\n",
       "      <td>NaN</td>\n",
       "      <td>NaN</td>\n",
       "    </tr>\n",
       "    <tr>\n",
       "      <th>9</th>\n",
       "      <td>tt0323808</td>\n",
       "      <td>6</td>\n",
       "      <td>nm0811056</td>\n",
       "      <td>producer</td>\n",
       "      <td>producer</td>\n",
       "      <td>NaN</td>\n",
       "    </tr>\n",
       "    <tr>\n",
       "      <th>10</th>\n",
       "      <td>tt0323808</td>\n",
       "      <td>7</td>\n",
       "      <td>nm0914939</td>\n",
       "      <td>producer</td>\n",
       "      <td>producer</td>\n",
       "      <td>NaN</td>\n",
       "    </tr>\n",
       "    <tr>\n",
       "      <th>11</th>\n",
       "      <td>tt0323808</td>\n",
       "      <td>8</td>\n",
       "      <td>nm0779346</td>\n",
       "      <td>composer</td>\n",
       "      <td>NaN</td>\n",
       "      <td>NaN</td>\n",
       "    </tr>\n",
       "    <tr>\n",
       "      <th>12</th>\n",
       "      <td>tt0323808</td>\n",
       "      <td>9</td>\n",
       "      <td>nm0676104</td>\n",
       "      <td>cinematographer</td>\n",
       "      <td>NaN</td>\n",
       "      <td>NaN</td>\n",
       "    </tr>\n",
       "    <tr>\n",
       "      <th>13</th>\n",
       "      <td>tt0417610</td>\n",
       "      <td>10</td>\n",
       "      <td>nm0284261</td>\n",
       "      <td>composer</td>\n",
       "      <td>NaN</td>\n",
       "      <td>NaN</td>\n",
       "    </tr>\n",
       "    <tr>\n",
       "      <th>14</th>\n",
       "      <td>tt0417610</td>\n",
       "      <td>1</td>\n",
       "      <td>nm0532721</td>\n",
       "      <td>actor</td>\n",
       "      <td>NaN</td>\n",
       "      <td>[\"Lucio\"]</td>\n",
       "    </tr>\n",
       "  </tbody>\n",
       "</table>\n",
       "</div>"
      ],
      "text/plain": [
       "       tconst  ordering     nconst         category       job  \\\n",
       "0   tt0111414         1  nm0246005            actor       NaN   \n",
       "1   tt0111414         2  nm0398271         director       NaN   \n",
       "2   tt0111414         3  nm3739909         producer  producer   \n",
       "3   tt0323808        10  nm0059247           editor       NaN   \n",
       "4   tt0323808         1  nm3579312          actress       NaN   \n",
       "5   tt0323808         2  nm2694680            actor       NaN   \n",
       "6   tt0323808         3  nm0574615            actor       NaN   \n",
       "7   tt0323808         4  nm0502652          actress       NaN   \n",
       "8   tt0323808         5  nm0362736         director       NaN   \n",
       "9   tt0323808         6  nm0811056         producer  producer   \n",
       "10  tt0323808         7  nm0914939         producer  producer   \n",
       "11  tt0323808         8  nm0779346         composer       NaN   \n",
       "12  tt0323808         9  nm0676104  cinematographer       NaN   \n",
       "13  tt0417610        10  nm0284261         composer       NaN   \n",
       "14  tt0417610         1  nm0532721            actor       NaN   \n",
       "\n",
       "                  characters  \n",
       "0                [\"The Man\"]  \n",
       "1                        NaN  \n",
       "2                        NaN  \n",
       "3                        NaN  \n",
       "4           [\"Beth Boothby\"]  \n",
       "5          [\"Steve Thomson\"]  \n",
       "6   [\"Sir Lachlan Morrison\"]  \n",
       "7    [\"Lady Delia Morrison\"]  \n",
       "8                        NaN  \n",
       "9                        NaN  \n",
       "10                       NaN  \n",
       "11                       NaN  \n",
       "12                       NaN  \n",
       "13                       NaN  \n",
       "14                 [\"Lucio\"]  "
      ]
     },
     "execution_count": 80,
     "metadata": {},
     "output_type": "execute_result"
    }
   ],
   "source": [
    "title_principles.head(15)"
   ]
  },
  {
   "cell_type": "markdown",
   "id": "c76b8c46",
   "metadata": {},
   "source": [
    "<hr>"
   ]
  },
  {
   "cell_type": "markdown",
   "id": "f992d896",
   "metadata": {},
   "source": [
    "### Basic examination of the title ratings dataset"
   ]
  },
  {
   "cell_type": "code",
   "execution_count": 81,
   "id": "d290b190",
   "metadata": {},
   "outputs": [
    {
     "data": {
      "text/plain": [
       "(73856, 3)"
      ]
     },
     "execution_count": 81,
     "metadata": {},
     "output_type": "execute_result"
    }
   ],
   "source": [
    "title_ratings.shape"
   ]
  },
  {
   "cell_type": "code",
   "execution_count": 82,
   "id": "62b84cb6",
   "metadata": {},
   "outputs": [
    {
     "name": "stdout",
     "output_type": "stream",
     "text": [
      "<class 'pandas.core.frame.DataFrame'>\n",
      "RangeIndex: 73856 entries, 0 to 73855\n",
      "Data columns (total 3 columns):\n",
      " #   Column         Non-Null Count  Dtype  \n",
      "---  ------         --------------  -----  \n",
      " 0   tconst         73856 non-null  object \n",
      " 1   averagerating  73856 non-null  float64\n",
      " 2   numvotes       73856 non-null  int64  \n",
      "dtypes: float64(1), int64(1), object(1)\n",
      "memory usage: 1.7+ MB\n"
     ]
    }
   ],
   "source": [
    "title_ratings.info()"
   ]
  },
  {
   "cell_type": "code",
   "execution_count": 83,
   "id": "550b79e6",
   "metadata": {},
   "outputs": [
    {
     "data": {
      "text/html": [
       "<div>\n",
       "<style scoped>\n",
       "    .dataframe tbody tr th:only-of-type {\n",
       "        vertical-align: middle;\n",
       "    }\n",
       "\n",
       "    .dataframe tbody tr th {\n",
       "        vertical-align: top;\n",
       "    }\n",
       "\n",
       "    .dataframe thead th {\n",
       "        text-align: right;\n",
       "    }\n",
       "</style>\n",
       "<table border=\"1\" class=\"dataframe\">\n",
       "  <thead>\n",
       "    <tr style=\"text-align: right;\">\n",
       "      <th></th>\n",
       "      <th>tconst</th>\n",
       "      <th>averagerating</th>\n",
       "      <th>numvotes</th>\n",
       "    </tr>\n",
       "  </thead>\n",
       "  <tbody>\n",
       "    <tr>\n",
       "      <th>0</th>\n",
       "      <td>tt10356526</td>\n",
       "      <td>8.3</td>\n",
       "      <td>31</td>\n",
       "    </tr>\n",
       "    <tr>\n",
       "      <th>1</th>\n",
       "      <td>tt10384606</td>\n",
       "      <td>8.9</td>\n",
       "      <td>559</td>\n",
       "    </tr>\n",
       "    <tr>\n",
       "      <th>2</th>\n",
       "      <td>tt1042974</td>\n",
       "      <td>6.4</td>\n",
       "      <td>20</td>\n",
       "    </tr>\n",
       "    <tr>\n",
       "      <th>3</th>\n",
       "      <td>tt1043726</td>\n",
       "      <td>4.2</td>\n",
       "      <td>50352</td>\n",
       "    </tr>\n",
       "    <tr>\n",
       "      <th>4</th>\n",
       "      <td>tt1060240</td>\n",
       "      <td>6.5</td>\n",
       "      <td>21</td>\n",
       "    </tr>\n",
       "  </tbody>\n",
       "</table>\n",
       "</div>"
      ],
      "text/plain": [
       "       tconst  averagerating  numvotes\n",
       "0  tt10356526            8.3        31\n",
       "1  tt10384606            8.9       559\n",
       "2   tt1042974            6.4        20\n",
       "3   tt1043726            4.2     50352\n",
       "4   tt1060240            6.5        21"
      ]
     },
     "execution_count": 83,
     "metadata": {},
     "output_type": "execute_result"
    }
   ],
   "source": [
    "title_ratings.head()"
   ]
  },
  {
   "cell_type": "markdown",
   "id": "d42b9ea5",
   "metadata": {},
   "source": [
    "<hr>"
   ]
  },
  {
   "cell_type": "markdown",
   "id": "ff8e8f9e",
   "metadata": {},
   "source": [
    "### Basic examination of the tmbd dataset"
   ]
  },
  {
   "cell_type": "code",
   "execution_count": 85,
   "id": "ad3cd87d",
   "metadata": {},
   "outputs": [
    {
     "data": {
      "text/plain": [
       "(26517, 10)"
      ]
     },
     "execution_count": 85,
     "metadata": {},
     "output_type": "execute_result"
    }
   ],
   "source": [
    "tmbd_data.shape"
   ]
  },
  {
   "cell_type": "code",
   "execution_count": 86,
   "id": "0385453a",
   "metadata": {},
   "outputs": [
    {
     "name": "stdout",
     "output_type": "stream",
     "text": [
      "<class 'pandas.core.frame.DataFrame'>\n",
      "RangeIndex: 26517 entries, 0 to 26516\n",
      "Data columns (total 10 columns):\n",
      " #   Column             Non-Null Count  Dtype  \n",
      "---  ------             --------------  -----  \n",
      " 0   Unnamed: 0         26517 non-null  int64  \n",
      " 1   genre_ids          26517 non-null  object \n",
      " 2   id                 26517 non-null  int64  \n",
      " 3   original_language  26517 non-null  object \n",
      " 4   original_title     26517 non-null  object \n",
      " 5   popularity         26517 non-null  float64\n",
      " 6   release_date       26517 non-null  object \n",
      " 7   title              26517 non-null  object \n",
      " 8   vote_average       26517 non-null  float64\n",
      " 9   vote_count         26517 non-null  int64  \n",
      "dtypes: float64(2), int64(3), object(5)\n",
      "memory usage: 2.0+ MB\n"
     ]
    }
   ],
   "source": [
    "tmbd_data.info()"
   ]
  },
  {
   "cell_type": "code",
   "execution_count": 7,
   "id": "06eef330",
   "metadata": {
    "scrolled": true
   },
   "outputs": [
    {
     "data": {
      "text/html": [
       "<div>\n",
       "<style scoped>\n",
       "    .dataframe tbody tr th:only-of-type {\n",
       "        vertical-align: middle;\n",
       "    }\n",
       "\n",
       "    .dataframe tbody tr th {\n",
       "        vertical-align: top;\n",
       "    }\n",
       "\n",
       "    .dataframe thead th {\n",
       "        text-align: right;\n",
       "    }\n",
       "</style>\n",
       "<table border=\"1\" class=\"dataframe\">\n",
       "  <thead>\n",
       "    <tr style=\"text-align: right;\">\n",
       "      <th></th>\n",
       "      <th>Unnamed: 0</th>\n",
       "      <th>genre_ids</th>\n",
       "      <th>id</th>\n",
       "      <th>original_language</th>\n",
       "      <th>original_title</th>\n",
       "      <th>popularity</th>\n",
       "      <th>release_date</th>\n",
       "      <th>title</th>\n",
       "      <th>vote_average</th>\n",
       "      <th>vote_count</th>\n",
       "    </tr>\n",
       "  </thead>\n",
       "  <tbody>\n",
       "    <tr>\n",
       "      <th>0</th>\n",
       "      <td>0</td>\n",
       "      <td>[12, 14, 10751]</td>\n",
       "      <td>12444</td>\n",
       "      <td>en</td>\n",
       "      <td>Harry Potter and the Deathly Hallows: Part 1</td>\n",
       "      <td>33.533</td>\n",
       "      <td>2010-11-19</td>\n",
       "      <td>Harry Potter and the Deathly Hallows: Part 1</td>\n",
       "      <td>7.7</td>\n",
       "      <td>10788</td>\n",
       "    </tr>\n",
       "    <tr>\n",
       "      <th>1</th>\n",
       "      <td>1</td>\n",
       "      <td>[14, 12, 16, 10751]</td>\n",
       "      <td>10191</td>\n",
       "      <td>en</td>\n",
       "      <td>How to Train Your Dragon</td>\n",
       "      <td>28.734</td>\n",
       "      <td>2010-03-26</td>\n",
       "      <td>How to Train Your Dragon</td>\n",
       "      <td>7.7</td>\n",
       "      <td>7610</td>\n",
       "    </tr>\n",
       "    <tr>\n",
       "      <th>2</th>\n",
       "      <td>2</td>\n",
       "      <td>[12, 28, 878]</td>\n",
       "      <td>10138</td>\n",
       "      <td>en</td>\n",
       "      <td>Iron Man 2</td>\n",
       "      <td>28.515</td>\n",
       "      <td>2010-05-07</td>\n",
       "      <td>Iron Man 2</td>\n",
       "      <td>6.8</td>\n",
       "      <td>12368</td>\n",
       "    </tr>\n",
       "    <tr>\n",
       "      <th>3</th>\n",
       "      <td>3</td>\n",
       "      <td>[16, 35, 10751]</td>\n",
       "      <td>862</td>\n",
       "      <td>en</td>\n",
       "      <td>Toy Story</td>\n",
       "      <td>28.005</td>\n",
       "      <td>1995-11-22</td>\n",
       "      <td>Toy Story</td>\n",
       "      <td>7.9</td>\n",
       "      <td>10174</td>\n",
       "    </tr>\n",
       "    <tr>\n",
       "      <th>4</th>\n",
       "      <td>4</td>\n",
       "      <td>[28, 878, 12]</td>\n",
       "      <td>27205</td>\n",
       "      <td>en</td>\n",
       "      <td>Inception</td>\n",
       "      <td>27.920</td>\n",
       "      <td>2010-07-16</td>\n",
       "      <td>Inception</td>\n",
       "      <td>8.3</td>\n",
       "      <td>22186</td>\n",
       "    </tr>\n",
       "  </tbody>\n",
       "</table>\n",
       "</div>"
      ],
      "text/plain": [
       "   Unnamed: 0            genre_ids     id original_language  \\\n",
       "0           0      [12, 14, 10751]  12444                en   \n",
       "1           1  [14, 12, 16, 10751]  10191                en   \n",
       "2           2        [12, 28, 878]  10138                en   \n",
       "3           3      [16, 35, 10751]    862                en   \n",
       "4           4        [28, 878, 12]  27205                en   \n",
       "\n",
       "                                 original_title  popularity release_date  \\\n",
       "0  Harry Potter and the Deathly Hallows: Part 1      33.533   2010-11-19   \n",
       "1                      How to Train Your Dragon      28.734   2010-03-26   \n",
       "2                                    Iron Man 2      28.515   2010-05-07   \n",
       "3                                     Toy Story      28.005   1995-11-22   \n",
       "4                                     Inception      27.920   2010-07-16   \n",
       "\n",
       "                                          title  vote_average  vote_count  \n",
       "0  Harry Potter and the Deathly Hallows: Part 1           7.7       10788  \n",
       "1                      How to Train Your Dragon           7.7        7610  \n",
       "2                                    Iron Man 2           6.8       12368  \n",
       "3                                     Toy Story           7.9       10174  \n",
       "4                                     Inception           8.3       22186  "
      ]
     },
     "execution_count": 7,
     "metadata": {},
     "output_type": "execute_result"
    }
   ],
   "source": [
    "tmbd_data.head()"
   ]
  },
  {
   "cell_type": "code",
   "execution_count": 4,
   "id": "bdef0223",
   "metadata": {},
   "outputs": [
    {
     "data": {
      "text/html": [
       "<div>\n",
       "<style scoped>\n",
       "    .dataframe tbody tr th:only-of-type {\n",
       "        vertical-align: middle;\n",
       "    }\n",
       "\n",
       "    .dataframe tbody tr th {\n",
       "        vertical-align: top;\n",
       "    }\n",
       "\n",
       "    .dataframe thead th {\n",
       "        text-align: right;\n",
       "    }\n",
       "</style>\n",
       "<table border=\"1\" class=\"dataframe\">\n",
       "  <thead>\n",
       "    <tr style=\"text-align: right;\">\n",
       "      <th></th>\n",
       "      <th>Unnamed: 0</th>\n",
       "      <th>genre_ids</th>\n",
       "      <th>id</th>\n",
       "      <th>original_language</th>\n",
       "      <th>original_title</th>\n",
       "      <th>popularity</th>\n",
       "      <th>release_date</th>\n",
       "      <th>title</th>\n",
       "      <th>vote_average</th>\n",
       "      <th>vote_count</th>\n",
       "    </tr>\n",
       "  </thead>\n",
       "  <tbody>\n",
       "    <tr>\n",
       "      <th>17256</th>\n",
       "      <td>17256</td>\n",
       "      <td>[12, 35, 18, 10770]</td>\n",
       "      <td>380718</td>\n",
       "      <td>en</td>\n",
       "      <td>The Ultimate Legacy</td>\n",
       "      <td>0.6</td>\n",
       "      <td>2015-12-04</td>\n",
       "      <td>The Ultimate Legacy</td>\n",
       "      <td>3.8</td>\n",
       "      <td>6</td>\n",
       "    </tr>\n",
       "    <tr>\n",
       "      <th>20494</th>\n",
       "      <td>20494</td>\n",
       "      <td>[12, 35, 18, 10770]</td>\n",
       "      <td>380718</td>\n",
       "      <td>en</td>\n",
       "      <td>The Ultimate Legacy</td>\n",
       "      <td>0.6</td>\n",
       "      <td>2015-12-04</td>\n",
       "      <td>The Ultimate Legacy</td>\n",
       "      <td>3.8</td>\n",
       "      <td>6</td>\n",
       "    </tr>\n",
       "    <tr>\n",
       "      <th>23724</th>\n",
       "      <td>23724</td>\n",
       "      <td>[12, 35, 18, 10770]</td>\n",
       "      <td>380718</td>\n",
       "      <td>en</td>\n",
       "      <td>The Ultimate Legacy</td>\n",
       "      <td>0.6</td>\n",
       "      <td>2015-12-04</td>\n",
       "      <td>The Ultimate Legacy</td>\n",
       "      <td>3.8</td>\n",
       "      <td>6</td>\n",
       "    </tr>\n",
       "  </tbody>\n",
       "</table>\n",
       "</div>"
      ],
      "text/plain": [
       "       Unnamed: 0            genre_ids      id original_language  \\\n",
       "17256       17256  [12, 35, 18, 10770]  380718                en   \n",
       "20494       20494  [12, 35, 18, 10770]  380718                en   \n",
       "23724       23724  [12, 35, 18, 10770]  380718                en   \n",
       "\n",
       "            original_title  popularity release_date                title  \\\n",
       "17256  The Ultimate Legacy         0.6   2015-12-04  The Ultimate Legacy   \n",
       "20494  The Ultimate Legacy         0.6   2015-12-04  The Ultimate Legacy   \n",
       "23724  The Ultimate Legacy         0.6   2015-12-04  The Ultimate Legacy   \n",
       "\n",
       "       vote_average  vote_count  \n",
       "17256           3.8           6  \n",
       "20494           3.8           6  \n",
       "23724           3.8           6  "
      ]
     },
     "execution_count": 4,
     "metadata": {},
     "output_type": "execute_result"
    }
   ],
   "source": [
    "tmbd_data.loc[tmbd_data['id']==380718]"
   ]
  },
  {
   "cell_type": "code",
   "execution_count": 89,
   "id": "b57a001e",
   "metadata": {},
   "outputs": [
    {
     "data": {
      "text/plain": [
       "(5782, 6)"
      ]
     },
     "execution_count": 89,
     "metadata": {},
     "output_type": "execute_result"
    }
   ],
   "source": [
    "movie_budgets.shape"
   ]
  },
  {
   "cell_type": "code",
   "execution_count": 90,
   "id": "afaa314d",
   "metadata": {},
   "outputs": [
    {
     "name": "stdout",
     "output_type": "stream",
     "text": [
      "<class 'pandas.core.frame.DataFrame'>\n",
      "RangeIndex: 5782 entries, 0 to 5781\n",
      "Data columns (total 6 columns):\n",
      " #   Column             Non-Null Count  Dtype \n",
      "---  ------             --------------  ----- \n",
      " 0   id                 5782 non-null   int64 \n",
      " 1   release_date       5782 non-null   object\n",
      " 2   movie              5782 non-null   object\n",
      " 3   production_budget  5782 non-null   object\n",
      " 4   domestic_gross     5782 non-null   object\n",
      " 5   worldwide_gross    5782 non-null   object\n",
      "dtypes: int64(1), object(5)\n",
      "memory usage: 271.2+ KB\n"
     ]
    }
   ],
   "source": [
    "movie_budgets.info()"
   ]
  },
  {
   "cell_type": "code",
   "execution_count": 6,
   "id": "f177f65b",
   "metadata": {},
   "outputs": [
    {
     "data": {
      "text/html": [
       "<div>\n",
       "<style scoped>\n",
       "    .dataframe tbody tr th:only-of-type {\n",
       "        vertical-align: middle;\n",
       "    }\n",
       "\n",
       "    .dataframe tbody tr th {\n",
       "        vertical-align: top;\n",
       "    }\n",
       "\n",
       "    .dataframe thead th {\n",
       "        text-align: right;\n",
       "    }\n",
       "</style>\n",
       "<table border=\"1\" class=\"dataframe\">\n",
       "  <thead>\n",
       "    <tr style=\"text-align: right;\">\n",
       "      <th></th>\n",
       "      <th>id</th>\n",
       "      <th>release_date</th>\n",
       "      <th>movie</th>\n",
       "      <th>production_budget</th>\n",
       "      <th>domestic_gross</th>\n",
       "      <th>worldwide_gross</th>\n",
       "    </tr>\n",
       "  </thead>\n",
       "  <tbody>\n",
       "    <tr>\n",
       "      <th>0</th>\n",
       "      <td>1</td>\n",
       "      <td>Dec 18, 2009</td>\n",
       "      <td>Avatar</td>\n",
       "      <td>$425,000,000</td>\n",
       "      <td>$760,507,625</td>\n",
       "      <td>$2,776,345,279</td>\n",
       "    </tr>\n",
       "    <tr>\n",
       "      <th>1</th>\n",
       "      <td>2</td>\n",
       "      <td>May 20, 2011</td>\n",
       "      <td>Pirates of the Caribbean: On Stranger Tides</td>\n",
       "      <td>$410,600,000</td>\n",
       "      <td>$241,063,875</td>\n",
       "      <td>$1,045,663,875</td>\n",
       "    </tr>\n",
       "    <tr>\n",
       "      <th>2</th>\n",
       "      <td>3</td>\n",
       "      <td>Jun 7, 2019</td>\n",
       "      <td>Dark Phoenix</td>\n",
       "      <td>$350,000,000</td>\n",
       "      <td>$42,762,350</td>\n",
       "      <td>$149,762,350</td>\n",
       "    </tr>\n",
       "    <tr>\n",
       "      <th>3</th>\n",
       "      <td>4</td>\n",
       "      <td>May 1, 2015</td>\n",
       "      <td>Avengers: Age of Ultron</td>\n",
       "      <td>$330,600,000</td>\n",
       "      <td>$459,005,868</td>\n",
       "      <td>$1,403,013,963</td>\n",
       "    </tr>\n",
       "    <tr>\n",
       "      <th>4</th>\n",
       "      <td>5</td>\n",
       "      <td>Dec 15, 2017</td>\n",
       "      <td>Star Wars Ep. VIII: The Last Jedi</td>\n",
       "      <td>$317,000,000</td>\n",
       "      <td>$620,181,382</td>\n",
       "      <td>$1,316,721,747</td>\n",
       "    </tr>\n",
       "  </tbody>\n",
       "</table>\n",
       "</div>"
      ],
      "text/plain": [
       "   id  release_date                                        movie  \\\n",
       "0   1  Dec 18, 2009                                       Avatar   \n",
       "1   2  May 20, 2011  Pirates of the Caribbean: On Stranger Tides   \n",
       "2   3   Jun 7, 2019                                 Dark Phoenix   \n",
       "3   4   May 1, 2015                      Avengers: Age of Ultron   \n",
       "4   5  Dec 15, 2017            Star Wars Ep. VIII: The Last Jedi   \n",
       "\n",
       "  production_budget domestic_gross worldwide_gross  \n",
       "0      $425,000,000   $760,507,625  $2,776,345,279  \n",
       "1      $410,600,000   $241,063,875  $1,045,663,875  \n",
       "2      $350,000,000    $42,762,350    $149,762,350  \n",
       "3      $330,600,000   $459,005,868  $1,403,013,963  \n",
       "4      $317,000,000   $620,181,382  $1,316,721,747  "
      ]
     },
     "execution_count": 6,
     "metadata": {},
     "output_type": "execute_result"
    }
   ],
   "source": [
    "movie_budgets.head()"
   ]
  },
  {
   "cell_type": "markdown",
   "id": "0e10d9de",
   "metadata": {},
   "source": [
    "### Datasets to be used:\n",
    "- movie_budgets\n",
    "- movie_info\n",
    "- review_data"
   ]
  },
  {
   "cell_type": "markdown",
   "id": "34c640f4",
   "metadata": {},
   "source": [
    "<hr>"
   ]
  },
  {
   "cell_type": "markdown",
   "id": "48c437d8",
   "metadata": {},
   "source": [
    "#### For the following questions, i decided to ignore empty values since they do not deal heavily statistically.\n",
    "#### And it's safer to keep the data as it is, rather than assume values"
   ]
  },
  {
   "cell_type": "markdown",
   "id": "ba0671b1",
   "metadata": {},
   "source": [
    "## What is the movie with the most reviews?"
   ]
  },
  {
   "cell_type": "markdown",
   "id": "cef1d48d",
   "metadata": {},
   "source": [
    "Since each record in the review_data dataset represents a single review, we can look at the value counts of the movie IDs to determine the movie id with the most reviews and check the movie name from the movie info dataset."
   ]
  },
  {
   "cell_type": "code",
   "execution_count": 4,
   "id": "30d6fbd4",
   "metadata": {},
   "outputs": [
    {
     "data": {
      "text/plain": [
       "782     338\n",
       "1067    275\n",
       "1525    262\n",
       "1777    260\n",
       "1083    260\n",
       "       ... \n",
       "1393      1\n",
       "411       1\n",
       "770       1\n",
       "1125      1\n",
       "1526      1\n",
       "Name: id, Length: 1135, dtype: int64"
      ]
     },
     "execution_count": 4,
     "metadata": {},
     "output_type": "execute_result"
    }
   ],
   "source": [
    "review_data['id'].value_counts()"
   ]
  },
  {
   "cell_type": "code",
   "execution_count": 5,
   "id": "5fadf64f",
   "metadata": {
    "scrolled": true
   },
   "outputs": [
    {
     "data": {
      "text/plain": [
       "\"THREE BILLBOARDS OUTSIDE EBBING, MISSOURI is a darkly comic drama from Academy Award winner Martin McDonagh (IN BRUGES). After months have passed without a culprit in her daughter's murder case, Mildred Hayes (Academy Award winner Frances McDormand) makes a bold move, painting three signs leading into her town with a controversial message directed at William Willoughby (Academy Award nominee Woody Harrelson), the town's revered chief of police. When his second-in-command Officer Dixon (Sam Rockwell), an immature mother's boy with a penchant for violence, gets involved, the battle between Mildred and Ebbing's law enforcement is only exacerbated.\""
      ]
     },
     "execution_count": 5,
     "metadata": {},
     "output_type": "execute_result"
    }
   ],
   "source": [
    "# the name of the movie is in the synopsis\n",
    "movie_info[movie_info.id== 782]['synopsis'][605]"
   ]
  },
  {
   "cell_type": "markdown",
   "id": "fc997db1",
   "metadata": {},
   "source": [
    "### The movie with the most reviews is THREE BILLBOARDS OUTSIDE EBBING, MISSOURI"
   ]
  },
  {
   "cell_type": "markdown",
   "id": "ac15ab5c",
   "metadata": {},
   "source": [
    "## What are the movies with the most positive reviews and what are their genres?"
   ]
  },
  {
   "cell_type": "markdown",
   "id": "1246152c",
   "metadata": {},
   "source": [
    "### Data Preparation"
   ]
  },
  {
   "cell_type": "code",
   "execution_count": 6,
   "id": "564af529",
   "metadata": {},
   "outputs": [
    {
     "data": {
      "text/html": [
       "<div>\n",
       "<style scoped>\n",
       "    .dataframe tbody tr th:only-of-type {\n",
       "        vertical-align: middle;\n",
       "    }\n",
       "\n",
       "    .dataframe tbody tr th {\n",
       "        vertical-align: top;\n",
       "    }\n",
       "\n",
       "    .dataframe thead th {\n",
       "        text-align: right;\n",
       "    }\n",
       "</style>\n",
       "<table border=\"1\" class=\"dataframe\">\n",
       "  <thead>\n",
       "    <tr style=\"text-align: right;\">\n",
       "      <th></th>\n",
       "      <th>id</th>\n",
       "      <th>review</th>\n",
       "      <th>rating</th>\n",
       "      <th>fresh</th>\n",
       "      <th>critic</th>\n",
       "      <th>top_critic</th>\n",
       "      <th>publisher</th>\n",
       "      <th>date</th>\n",
       "    </tr>\n",
       "  </thead>\n",
       "  <tbody>\n",
       "    <tr>\n",
       "      <th>16812</th>\n",
       "      <td>683</td>\n",
       "      <td>NaN</td>\n",
       "      <td>0</td>\n",
       "      <td>rotten</td>\n",
       "      <td>Mark R. Leeper</td>\n",
       "      <td>0</td>\n",
       "      <td>rec.arts.movies.reviews</td>\n",
       "      <td>January 1, 2000</td>\n",
       "    </tr>\n",
       "    <tr>\n",
       "      <th>30058</th>\n",
       "      <td>1186</td>\n",
       "      <td>Yu might as well look at the background; you a...</td>\n",
       "      <td>0</td>\n",
       "      <td>rotten</td>\n",
       "      <td>Mark R. Leeper</td>\n",
       "      <td>0</td>\n",
       "      <td>rec.arts.movies.reviews</td>\n",
       "      <td>January 1, 2000</td>\n",
       "    </tr>\n",
       "    <tr>\n",
       "      <th>37296</th>\n",
       "      <td>1446</td>\n",
       "      <td>There is an uneven mix of slapstick sequences ...</td>\n",
       "      <td>0</td>\n",
       "      <td>rotten</td>\n",
       "      <td>Mark R. Leeper</td>\n",
       "      <td>0</td>\n",
       "      <td>rec.arts.movies.reviews</td>\n",
       "      <td>January 1, 2000</td>\n",
       "    </tr>\n",
       "    <tr>\n",
       "      <th>36435</th>\n",
       "      <td>1418</td>\n",
       "      <td>Does the Nick Park charm work for a feature fi...</td>\n",
       "      <td>0</td>\n",
       "      <td>rotten</td>\n",
       "      <td>Mark R. Leeper</td>\n",
       "      <td>0</td>\n",
       "      <td>rec.arts.movies.reviews</td>\n",
       "      <td>January 1, 2000</td>\n",
       "    </tr>\n",
       "    <tr>\n",
       "      <th>13172</th>\n",
       "      <td>508</td>\n",
       "      <td>From Dusk Till Dawn will be a real disappointm...</td>\n",
       "      <td>0</td>\n",
       "      <td>rotten</td>\n",
       "      <td>Mark R. Leeper</td>\n",
       "      <td>0</td>\n",
       "      <td>rec.arts.movies.reviews</td>\n",
       "      <td>January 1, 2000</td>\n",
       "    </tr>\n",
       "    <tr>\n",
       "      <th>...</th>\n",
       "      <td>...</td>\n",
       "      <td>...</td>\n",
       "      <td>...</td>\n",
       "      <td>...</td>\n",
       "      <td>...</td>\n",
       "      <td>...</td>\n",
       "      <td>...</td>\n",
       "      <td>...</td>\n",
       "    </tr>\n",
       "    <tr>\n",
       "      <th>54409</th>\n",
       "      <td>2000</td>\n",
       "      <td>A lightweight, uneven action comedy that freel...</td>\n",
       "      <td>NaN</td>\n",
       "      <td>rotten</td>\n",
       "      <td>Daniel Eagan</td>\n",
       "      <td>0</td>\n",
       "      <td>Film Journal International</td>\n",
       "      <td>October 5, 2002</td>\n",
       "    </tr>\n",
       "    <tr>\n",
       "      <th>54417</th>\n",
       "      <td>2000</td>\n",
       "      <td>The funny thing is, I didn't mind all this con...</td>\n",
       "      <td>NaN</td>\n",
       "      <td>fresh</td>\n",
       "      <td>Andrew Sarris</td>\n",
       "      <td>1</td>\n",
       "      <td>Observer</td>\n",
       "      <td>October 2, 2002</td>\n",
       "    </tr>\n",
       "    <tr>\n",
       "      <th>54425</th>\n",
       "      <td>2000</td>\n",
       "      <td>Despite Besson's high-profile name being Wasab...</td>\n",
       "      <td>NaN</td>\n",
       "      <td>fresh</td>\n",
       "      <td>Andy Klein</td>\n",
       "      <td>0</td>\n",
       "      <td>New Times</td>\n",
       "      <td>September 26, 2002</td>\n",
       "    </tr>\n",
       "    <tr>\n",
       "      <th>54426</th>\n",
       "      <td>2000</td>\n",
       "      <td>The film lapses too often into sugary sentimen...</td>\n",
       "      <td>NaN</td>\n",
       "      <td>rotten</td>\n",
       "      <td>Paul Malcolm</td>\n",
       "      <td>1</td>\n",
       "      <td>L.A. Weekly</td>\n",
       "      <td>September 26, 2002</td>\n",
       "    </tr>\n",
       "    <tr>\n",
       "      <th>54427</th>\n",
       "      <td>2000</td>\n",
       "      <td>The real charm of this trifle is the deadpan c...</td>\n",
       "      <td>NaN</td>\n",
       "      <td>fresh</td>\n",
       "      <td>Laura Sinagra</td>\n",
       "      <td>1</td>\n",
       "      <td>Village Voice</td>\n",
       "      <td>September 24, 2002</td>\n",
       "    </tr>\n",
       "  </tbody>\n",
       "</table>\n",
       "<p>54432 rows × 8 columns</p>\n",
       "</div>"
      ],
      "text/plain": [
       "         id                                             review rating   fresh  \\\n",
       "16812   683                                                NaN      0  rotten   \n",
       "30058  1186  Yu might as well look at the background; you a...      0  rotten   \n",
       "37296  1446  There is an uneven mix of slapstick sequences ...      0  rotten   \n",
       "36435  1418  Does the Nick Park charm work for a feature fi...      0  rotten   \n",
       "13172   508  From Dusk Till Dawn will be a real disappointm...      0  rotten   \n",
       "...     ...                                                ...    ...     ...   \n",
       "54409  2000  A lightweight, uneven action comedy that freel...    NaN  rotten   \n",
       "54417  2000  The funny thing is, I didn't mind all this con...    NaN   fresh   \n",
       "54425  2000  Despite Besson's high-profile name being Wasab...    NaN   fresh   \n",
       "54426  2000  The film lapses too often into sugary sentimen...    NaN  rotten   \n",
       "54427  2000  The real charm of this trifle is the deadpan c...    NaN   fresh   \n",
       "\n",
       "               critic  top_critic                   publisher  \\\n",
       "16812  Mark R. Leeper           0     rec.arts.movies.reviews   \n",
       "30058  Mark R. Leeper           0     rec.arts.movies.reviews   \n",
       "37296  Mark R. Leeper           0     rec.arts.movies.reviews   \n",
       "36435  Mark R. Leeper           0     rec.arts.movies.reviews   \n",
       "13172  Mark R. Leeper           0     rec.arts.movies.reviews   \n",
       "...               ...         ...                         ...   \n",
       "54409    Daniel Eagan           0  Film Journal International   \n",
       "54417   Andrew Sarris           1                    Observer   \n",
       "54425      Andy Klein           0                   New Times   \n",
       "54426    Paul Malcolm           1                 L.A. Weekly   \n",
       "54427   Laura Sinagra           1               Village Voice   \n",
       "\n",
       "                     date  \n",
       "16812     January 1, 2000  \n",
       "30058     January 1, 2000  \n",
       "37296     January 1, 2000  \n",
       "36435     January 1, 2000  \n",
       "13172     January 1, 2000  \n",
       "...                   ...  \n",
       "54409     October 5, 2002  \n",
       "54417     October 2, 2002  \n",
       "54425  September 26, 2002  \n",
       "54426  September 26, 2002  \n",
       "54427  September 24, 2002  \n",
       "\n",
       "[54432 rows x 8 columns]"
      ]
     },
     "execution_count": 6,
     "metadata": {},
     "output_type": "execute_result"
    }
   ],
   "source": [
    "review_data.sort_values('rating', ascending= True)"
   ]
  },
  {
   "cell_type": "code",
   "execution_count": 6,
   "id": "e03c811a",
   "metadata": {},
   "outputs": [],
   "source": [
    "rating_values= review_data['rating'].value_counts()"
   ]
  },
  {
   "cell_type": "code",
   "execution_count": 7,
   "id": "d666df3a",
   "metadata": {
    "scrolled": true
   },
   "outputs": [
    {
     "data": {
      "text/plain": [
       "3/5       4327\n",
       "4/5       3672\n",
       "3/4       3577\n",
       "2/5       3160\n",
       "2/4       2712\n",
       "          ... \n",
       "3.1/5        1\n",
       "6.2/10       1\n",
       "2.6/5        1\n",
       "9.7          1\n",
       "3 1/2        1\n",
       "Name: rating, Length: 186, dtype: int64"
      ]
     },
     "execution_count": 7,
     "metadata": {},
     "output_type": "execute_result"
    }
   ],
   "source": [
    "rating_values"
   ]
  },
  {
   "cell_type": "code",
   "execution_count": 40,
   "id": "2293103e",
   "metadata": {},
   "outputs": [],
   "source": [
    "# I notice the rating values are in multiple different formats.\n",
    "# So i decide to put them in the same format, which is a scale of 1 to 10"
   ]
  },
  {
   "cell_type": "markdown",
   "id": "85f285aa",
   "metadata": {},
   "source": [
    "I decided to leave the nan values as they are (only dropping them when necessary)\n",
    "because It's safer not to assume values"
   ]
  },
  {
   "cell_type": "code",
   "execution_count": 41,
   "id": "13974d19",
   "metadata": {},
   "outputs": [],
   "source": [
    "# First we deal with the ones with a scale of 1 to 5 and 1 to 4"
   ]
  },
  {
   "cell_type": "code",
   "execution_count": 8,
   "id": "dddb0847",
   "metadata": {},
   "outputs": [],
   "source": [
    "# function to check if a string can be converted to a float\n",
    "def isfloat(num):\n",
    "    try:\n",
    "        float(num)\n",
    "        return True\n",
    "    except ValueError:\n",
    "        return False"
   ]
  },
  {
   "cell_type": "code",
   "execution_count": 9,
   "id": "b5f008e9",
   "metadata": {},
   "outputs": [],
   "source": [
    "#function to standardize alphabetical ratings\n",
    "def alpha_standardization(rating):\n",
    "#     since there's 15 possible values, we assign each value a number btwn 1 and 15\n",
    "    if rating== 'A+':\n",
    "        num= 15\n",
    "        std_rating= num * 10/15\n",
    "    elif rating== 'A':\n",
    "        num= 14\n",
    "        std_rating= num * 10/15\n",
    "    elif rating== 'A-':\n",
    "        num= 13\n",
    "        std_rating= num * 10/15\n",
    "    elif rating== 'B+':\n",
    "        num= 12\n",
    "        std_rating= num * 10/15\n",
    "    elif rating== 'B':\n",
    "        num= 11\n",
    "        std_rating= num * 10/15\n",
    "    elif rating== 'B-':\n",
    "        num= 10\n",
    "        std_rating= num * 10/15\n",
    "    elif rating== 'C+':\n",
    "        num= 9\n",
    "        std_rating= num * 10/15\n",
    "    elif rating== 'C':\n",
    "        num= 8\n",
    "        std_rating= num * 10/15\n",
    "    elif rating== 'C-':\n",
    "        num= 7\n",
    "        std_rating= num * 10/15\n",
    "    elif rating== 'D+':\n",
    "        num= 6\n",
    "        std_rating= num * 10/15\n",
    "    elif rating== 'D':\n",
    "        num= 5\n",
    "        std_rating= num * 10/15\n",
    "    elif rating== 'D-':\n",
    "        num= 5\n",
    "        std_rating= num * 10/15\n",
    "    elif rating== 'F_+':\n",
    "        num= 3\n",
    "        std_rating= num * 10/15\n",
    "    elif rating== 'F':\n",
    "        num= 2\n",
    "        std_rating= num * 10/15\n",
    "    elif rating== 'F-':\n",
    "        num= 1\n",
    "        std_rating= num * 10/15\n",
    "#     some of the ratings are ratings that show the suitable audience for the film instead of a grade for the movie\n",
    "    else:\n",
    "        std_rating= None\n",
    "    return std_rating"
   ]
  },
  {
   "cell_type": "code",
   "execution_count": 10,
   "id": "c616d7be",
   "metadata": {},
   "outputs": [],
   "source": [
    "def standardize_rating(i):\n",
    "# rating values without '/' are in the scale upto 10\n",
    "    if isfloat(i):\n",
    "        std_rating= float(i)\n",
    "            \n",
    "# we standardize the ones out of 10\n",
    "    elif i.endswith('/10'):\n",
    "        std_rating= float(i[:-3])\n",
    "            \n",
    "# we standardize the ones out of 5\n",
    "    elif i.endswith('/5'):\n",
    "        std_rating= float(i[:-2])* 2\n",
    "            \n",
    "# we standardize the ones out of 4\n",
    "    elif i.endswith('/4'):\n",
    "        std_rating= float(i[:-2])* 2.5\n",
    "            \n",
    "# we standardize the ones out of 6\n",
    "    elif i.endswith('/6'):\n",
    "        std_rating= float(i[:-2])* 10/6\n",
    "            \n",
    "# we standardize alphabetic ratings\n",
    "    elif i[0].isalpha():\n",
    "        std_rating= alpha_standardization(i)\n",
    "\n",
    "# all other values are considered falsely input values and thus can not be used\n",
    "    else:\n",
    "        std_rating= None\n",
    "        \n",
    "    return std_rating"
   ]
  },
  {
   "cell_type": "code",
   "execution_count": 11,
   "id": "3ea3507a",
   "metadata": {},
   "outputs": [],
   "source": [
    "review_data['rating']= review_data['rating'].apply(standardize_rating)"
   ]
  },
  {
   "cell_type": "code",
   "execution_count": 12,
   "id": "2143a4d4",
   "metadata": {
    "scrolled": true
   },
   "outputs": [],
   "source": [
    "movie_info.set_index('id', inplace= True)"
   ]
  },
  {
   "cell_type": "code",
   "execution_count": 13,
   "id": "e242ad7a",
   "metadata": {},
   "outputs": [],
   "source": [
    "review_data.set_index('id', inplace= True)"
   ]
  },
  {
   "cell_type": "code",
   "execution_count": 14,
   "id": "2453264b",
   "metadata": {},
   "outputs": [],
   "source": [
    "# joining review_data and movie_info to get the names of the movies\n",
    "joined_data= review_data.join(movie_info, how= 'inner', rsuffix= \"_audience\")"
   ]
  },
  {
   "cell_type": "markdown",
   "id": "99fc0e7a",
   "metadata": {},
   "source": [
    "We examine the distribution of ratings to know which measure of central tendency to use on the aggregate function in the cell after this one"
   ]
  },
  {
   "cell_type": "code",
   "execution_count": 15,
   "id": "47f5156d",
   "metadata": {
    "scrolled": true
   },
   "outputs": [],
   "source": [
    "from scipy import stats\n",
    "from pandasql import sqldf"
   ]
  },
  {
   "cell_type": "code",
   "execution_count": 320,
   "id": "e9f64c66",
   "metadata": {
    "scrolled": false
   },
   "outputs": [
    {
     "data": {
      "image/png": "[encoded data removed]",
      "text/plain": [
       "<Figure size 1843.2x1382.4 with 1 Axes>"
      ]
     },
     "metadata": {
      "needs_background": "light"
     },
     "output_type": "display_data"
    }
   ],
   "source": [
    "fig, ax= plt.subplots(figsize= (25.6,19.2))\n",
    "ax.hist(joined_data['rating']);\n",
    "ax.set_xlabel('ratings', fontsize= 50)\n",
    "ax.set_ylabel('rating_counts', fontsize= 50)\n",
    "plt.xticks(fontsize= 30)\n",
    "plt.yticks(fontsize= 30)\n",
    "ax.set_title('Histogram of movie ratings from Rotten Tomatoes', fontsize= 50);"
   ]
  },
  {
   "cell_type": "code",
   "execution_count": 292,
   "id": "6a5a6e2e",
   "metadata": {},
   "outputs": [
    {
     "data": {
      "text/plain": [
       "-0.37999884935315575"
      ]
     },
     "execution_count": 292,
     "metadata": {},
     "output_type": "execute_result"
    }
   ],
   "source": [
    "stats.skew(joined_data['rating'].dropna())"
   ]
  },
  {
   "cell_type": "markdown",
   "id": "146a492a",
   "metadata": {},
   "source": [
    "Skewness is close to 0, therefore, the distribution of ratings is fairly normal. So, i will use the mean aggregate function in the following cell"
   ]
  },
  {
   "cell_type": "code",
   "execution_count": 17,
   "id": "5ffc32de",
   "metadata": {},
   "outputs": [],
   "source": [
    "# get the ratings, genres and synopsis of the movies sorted by rating decreasingly\n",
    "movie_ratings_sorted= joined_data.sort_values('rating', ascending= False).loc[:,['rating', 'synopsis', 'genre']]\n",
    "\n",
    "# because some movies have very few reviews, i decide to only observe movies with more than 50 reviews\n",
    "query= \"\"\"SELECT * FROM movie_ratings_sorted\n",
    "            WHERE synopsis IN\n",
    "                (SELECT synopsis\n",
    "                FROM movie_ratings_sorted GROUP BY synopsis HAVING COUNT(rating) > 50)\"\"\"\n",
    "more_than_50_ratings= sqldf(query)\n",
    "\n",
    "# getting rid of duplicate data\n",
    "no_duplicates= more_than_50_ratings.loc[:,['synopsis', 'genre']].drop_duplicates()\n",
    "\n",
    "# getting the means of all the reviews of each movie\n",
    "mean_ratings= more_than_50_ratings.groupby('synopsis').mean().reset_index()\n",
    "mean_ratings_with_genres= mean_ratings.join(no_duplicates.set_index('synopsis'), how= 'left', on= 'synopsis')\n",
    "\n",
    "# getting the top 10 movies by mean of ratings\n",
    "top_movies= mean_ratings_with_genres.sort_values('rating', ascending= False).drop('id', axis= 1)\n",
    "top_10_movies= top_movies.head(10)"
   ]
  },
  {
   "cell_type": "code",
   "execution_count": 18,
   "id": "60399636",
   "metadata": {
    "scrolled": false
   },
   "outputs": [
    {
     "data": {
      "text/html": [
       "<div>\n",
       "<style scoped>\n",
       "    .dataframe tbody tr th:only-of-type {\n",
       "        vertical-align: middle;\n",
       "    }\n",
       "\n",
       "    .dataframe tbody tr th {\n",
       "        vertical-align: top;\n",
       "    }\n",
       "\n",
       "    .dataframe thead th {\n",
       "        text-align: right;\n",
       "    }\n",
       "</style>\n",
       "<table border=\"1\" class=\"dataframe\">\n",
       "  <thead>\n",
       "    <tr style=\"text-align: right;\">\n",
       "      <th></th>\n",
       "      <th>synopsis</th>\n",
       "      <th>rating</th>\n",
       "      <th>genre</th>\n",
       "    </tr>\n",
       "  </thead>\n",
       "  <tbody>\n",
       "    <tr>\n",
       "      <th>274</th>\n",
       "      <td>When a Vietnam veteran discovers two million d...</td>\n",
       "      <td>8.941933</td>\n",
       "      <td>Action and Adventure|Drama|Mystery and Suspense</td>\n",
       "    </tr>\n",
       "    <tr>\n",
       "      <th>163</th>\n",
       "      <td>Indiana Jones (Harrison Ford) is no ordinary a...</td>\n",
       "      <td>8.893791</td>\n",
       "      <td>Action and Adventure</td>\n",
       "    </tr>\n",
       "    <tr>\n",
       "      <th>117</th>\n",
       "      <td>For this film adaptation of Peter Shaffer's Br...</td>\n",
       "      <td>8.839394</td>\n",
       "      <td>Drama|Musical and Performing Arts</td>\n",
       "    </tr>\n",
       "    <tr>\n",
       "      <th>72</th>\n",
       "      <td>Based on a true story, Steven Spielberg's Schi...</td>\n",
       "      <td>8.647989</td>\n",
       "      <td>Drama</td>\n",
       "    </tr>\n",
       "    <tr>\n",
       "      <th>132</th>\n",
       "      <td>Hollywood 1927. George Valentin (Jean Dujardin...</td>\n",
       "      <td>8.626930</td>\n",
       "      <td>Comedy|Drama|Romance</td>\n",
       "    </tr>\n",
       "    <tr>\n",
       "      <th>185</th>\n",
       "      <td>Moving from one parish to another in Northern ...</td>\n",
       "      <td>8.555556</td>\n",
       "      <td>Documentary</td>\n",
       "    </tr>\n",
       "    <tr>\n",
       "      <th>57</th>\n",
       "      <td>After making a striking directorial debut with...</td>\n",
       "      <td>8.555490</td>\n",
       "      <td>Comedy|Drama|Romance</td>\n",
       "    </tr>\n",
       "    <tr>\n",
       "      <th>76</th>\n",
       "      <td>CALL ME BY YOUR NAME, the new film by Luca Gua...</td>\n",
       "      <td>8.504624</td>\n",
       "      <td>Drama|Romance</td>\n",
       "    </tr>\n",
       "    <tr>\n",
       "      <th>180</th>\n",
       "      <td>Mark Renton (Ewan McGregor), a young man with ...</td>\n",
       "      <td>8.489943</td>\n",
       "      <td>Comedy|Drama</td>\n",
       "    </tr>\n",
       "    <tr>\n",
       "      <th>156</th>\n",
       "      <td>In this adaptation of the novel \"The Price of ...</td>\n",
       "      <td>8.482036</td>\n",
       "      <td>Drama|Romance</td>\n",
       "    </tr>\n",
       "  </tbody>\n",
       "</table>\n",
       "</div>"
      ],
      "text/plain": [
       "                                              synopsis    rating  \\\n",
       "274  When a Vietnam veteran discovers two million d...  8.941933   \n",
       "163  Indiana Jones (Harrison Ford) is no ordinary a...  8.893791   \n",
       "117  For this film adaptation of Peter Shaffer's Br...  8.839394   \n",
       "72   Based on a true story, Steven Spielberg's Schi...  8.647989   \n",
       "132  Hollywood 1927. George Valentin (Jean Dujardin...  8.626930   \n",
       "185  Moving from one parish to another in Northern ...  8.555556   \n",
       "57   After making a striking directorial debut with...  8.555490   \n",
       "76   CALL ME BY YOUR NAME, the new film by Luca Gua...  8.504624   \n",
       "180  Mark Renton (Ewan McGregor), a young man with ...  8.489943   \n",
       "156  In this adaptation of the novel \"The Price of ...  8.482036   \n",
       "\n",
       "                                               genre  \n",
       "274  Action and Adventure|Drama|Mystery and Suspense  \n",
       "163                             Action and Adventure  \n",
       "117                Drama|Musical and Performing Arts  \n",
       "72                                             Drama  \n",
       "132                             Comedy|Drama|Romance  \n",
       "185                                      Documentary  \n",
       "57                              Comedy|Drama|Romance  \n",
       "76                                     Drama|Romance  \n",
       "180                                     Comedy|Drama  \n",
       "156                                    Drama|Romance  "
      ]
     },
     "execution_count": 18,
     "metadata": {},
     "output_type": "execute_result"
    }
   ],
   "source": [
    "top_10_movies"
   ]
  },
  {
   "cell_type": "code",
   "execution_count": 19,
   "id": "b68b6143",
   "metadata": {
    "scrolled": false
   },
   "outputs": [
    {
     "data": {
      "text/plain": [
       "\"Based on a true story, Steven Spielberg's Schindler's List stars Liam Neeson as Oskar Schindler, a German businessman in Poland who sees an opportunity to make money from the Nazis' rise to power. He starts a company to make cookware and utensils, using flattery and bribes to win military contracts, and brings in accountant and financier Itzhak Stern (Ben Kingsley) to help run the factory. By staffing his plant with Jews who've been herded into Krakow's ghetto by Nazi troops, Schindler has a dependable unpaid labor force. For Stern, a job in a war-related plant could mean survival for himself and the other Jews working for Schindler. However, in 1942, all of Krakow's Jews are assigned to the Plaszow Forced Labor Camp, overseen by Commandant Amon Goeth (Ralph Fiennes), an embittered alcoholic who occasionally shoots prisoners from his balcony. Schindler arranges to continue using Polish Jews in his plant, but, as he sees what is happening to his employees, he begins to develop a conscience. He realizes that his factory (now refitted to manufacture ammunition) is the only thing preventing his staff from being shipped to the death camps. Soon Schindler demands more workers and starts bribing Nazi leaders to keep Jews on his employee lists and out of the camps. By the time Germany falls to the allies, Schindler has lost his entire fortune -- and saved 1,100 people from likely death. Schindler's List was nominated for 12 Academy Awards and won seven, including Best Picture and a long-coveted Best Director for Spielberg, and it quickly gained praise as one of the finest American movies about the Holocaust.\""
      ]
     },
     "execution_count": 19,
     "metadata": {},
     "output_type": "execute_result"
    }
   ],
   "source": [
    "# observing the synopsis to look for the movie names\n",
    "top_10_movies['synopsis'][72]"
   ]
  },
  {
   "cell_type": "code",
   "execution_count": 402,
   "id": "a97f3b99",
   "metadata": {},
   "outputs": [],
   "source": [
    "# for movies without the title in the synopsis, i google the title using the cast"
   ]
  },
  {
   "cell_type": "code",
   "execution_count": 21,
   "id": "124e0a27",
   "metadata": {},
   "outputs": [],
   "source": [
    "movie_1= 'No country for old men'\n",
    "movie_2= 'Indiana Jones: Raiders of the lost ark'\n",
    "movie_3= 'Amadeus'\n",
    "movie_4= 'Schindlers List'\n",
    "movie_5= 'The Artist'\n",
    "movie_6= 'Deliver Us from Evil'\n",
    "movie_7= 'Lost in Translation'\n",
    "movie_8= 'Call me by your name'\n",
    "movie_9= 'Trainspotting'\n",
    "movie_10= 'The price of salt'\n",
    "\n",
    "# adding the movie names to the top_10 dataframe\n",
    "top_10_movies['movie_names']= [movie_1, movie_2, movie_3, movie_4, movie_5, movie_6, movie_7, movie_8, movie_9, movie_10]"
   ]
  },
  {
   "cell_type": "code",
   "execution_count": 22,
   "id": "7cf57245",
   "metadata": {},
   "outputs": [
    {
     "data": {
      "text/html": [
       "<div>\n",
       "<style scoped>\n",
       "    .dataframe tbody tr th:only-of-type {\n",
       "        vertical-align: middle;\n",
       "    }\n",
       "\n",
       "    .dataframe tbody tr th {\n",
       "        vertical-align: top;\n",
       "    }\n",
       "\n",
       "    .dataframe thead th {\n",
       "        text-align: right;\n",
       "    }\n",
       "</style>\n",
       "<table border=\"1\" class=\"dataframe\">\n",
       "  <thead>\n",
       "    <tr style=\"text-align: right;\">\n",
       "      <th></th>\n",
       "      <th>synopsis</th>\n",
       "      <th>rating</th>\n",
       "      <th>genre</th>\n",
       "      <th>movie_names</th>\n",
       "    </tr>\n",
       "  </thead>\n",
       "  <tbody>\n",
       "    <tr>\n",
       "      <th>274</th>\n",
       "      <td>When a Vietnam veteran discovers two million d...</td>\n",
       "      <td>8.941933</td>\n",
       "      <td>Action and Adventure|Drama|Mystery and Suspense</td>\n",
       "      <td>No country for old men</td>\n",
       "    </tr>\n",
       "    <tr>\n",
       "      <th>163</th>\n",
       "      <td>Indiana Jones (Harrison Ford) is no ordinary a...</td>\n",
       "      <td>8.893791</td>\n",
       "      <td>Action and Adventure</td>\n",
       "      <td>Indiana Jones: Raiders of the lost ark</td>\n",
       "    </tr>\n",
       "    <tr>\n",
       "      <th>117</th>\n",
       "      <td>For this film adaptation of Peter Shaffer's Br...</td>\n",
       "      <td>8.839394</td>\n",
       "      <td>Drama|Musical and Performing Arts</td>\n",
       "      <td>Amadeus</td>\n",
       "    </tr>\n",
       "    <tr>\n",
       "      <th>72</th>\n",
       "      <td>Based on a true story, Steven Spielberg's Schi...</td>\n",
       "      <td>8.647989</td>\n",
       "      <td>Drama</td>\n",
       "      <td>Schindlers List</td>\n",
       "    </tr>\n",
       "    <tr>\n",
       "      <th>132</th>\n",
       "      <td>Hollywood 1927. George Valentin (Jean Dujardin...</td>\n",
       "      <td>8.626930</td>\n",
       "      <td>Comedy|Drama|Romance</td>\n",
       "      <td>The Artist</td>\n",
       "    </tr>\n",
       "    <tr>\n",
       "      <th>185</th>\n",
       "      <td>Moving from one parish to another in Northern ...</td>\n",
       "      <td>8.555556</td>\n",
       "      <td>Documentary</td>\n",
       "      <td>Deliver Us from Evil</td>\n",
       "    </tr>\n",
       "    <tr>\n",
       "      <th>57</th>\n",
       "      <td>After making a striking directorial debut with...</td>\n",
       "      <td>8.555490</td>\n",
       "      <td>Comedy|Drama|Romance</td>\n",
       "      <td>Lost in Translation</td>\n",
       "    </tr>\n",
       "    <tr>\n",
       "      <th>76</th>\n",
       "      <td>CALL ME BY YOUR NAME, the new film by Luca Gua...</td>\n",
       "      <td>8.504624</td>\n",
       "      <td>Drama|Romance</td>\n",
       "      <td>Call me by your name</td>\n",
       "    </tr>\n",
       "    <tr>\n",
       "      <th>180</th>\n",
       "      <td>Mark Renton (Ewan McGregor), a young man with ...</td>\n",
       "      <td>8.489943</td>\n",
       "      <td>Comedy|Drama</td>\n",
       "      <td>Trainspotting</td>\n",
       "    </tr>\n",
       "    <tr>\n",
       "      <th>156</th>\n",
       "      <td>In this adaptation of the novel \"The Price of ...</td>\n",
       "      <td>8.482036</td>\n",
       "      <td>Drama|Romance</td>\n",
       "      <td>The price of salt</td>\n",
       "    </tr>\n",
       "  </tbody>\n",
       "</table>\n",
       "</div>"
      ],
      "text/plain": [
       "                                              synopsis    rating  \\\n",
       "274  When a Vietnam veteran discovers two million d...  8.941933   \n",
       "163  Indiana Jones (Harrison Ford) is no ordinary a...  8.893791   \n",
       "117  For this film adaptation of Peter Shaffer's Br...  8.839394   \n",
       "72   Based on a true story, Steven Spielberg's Schi...  8.647989   \n",
       "132  Hollywood 1927. George Valentin (Jean Dujardin...  8.626930   \n",
       "185  Moving from one parish to another in Northern ...  8.555556   \n",
       "57   After making a striking directorial debut with...  8.555490   \n",
       "76   CALL ME BY YOUR NAME, the new film by Luca Gua...  8.504624   \n",
       "180  Mark Renton (Ewan McGregor), a young man with ...  8.489943   \n",
       "156  In this adaptation of the novel \"The Price of ...  8.482036   \n",
       "\n",
       "                                               genre  \\\n",
       "274  Action and Adventure|Drama|Mystery and Suspense   \n",
       "163                             Action and Adventure   \n",
       "117                Drama|Musical and Performing Arts   \n",
       "72                                             Drama   \n",
       "132                             Comedy|Drama|Romance   \n",
       "185                                      Documentary   \n",
       "57                              Comedy|Drama|Romance   \n",
       "76                                     Drama|Romance   \n",
       "180                                     Comedy|Drama   \n",
       "156                                    Drama|Romance   \n",
       "\n",
       "                                movie_names  \n",
       "274                  No country for old men  \n",
       "163  Indiana Jones: Raiders of the lost ark  \n",
       "117                                 Amadeus  \n",
       "72                          Schindlers List  \n",
       "132                              The Artist  \n",
       "185                    Deliver Us from Evil  \n",
       "57                      Lost in Translation  \n",
       "76                     Call me by your name  \n",
       "180                           Trainspotting  \n",
       "156                       The price of salt  "
      ]
     },
     "execution_count": 22,
     "metadata": {},
     "output_type": "execute_result"
    }
   ],
   "source": [
    "top_10_movies"
   ]
  },
  {
   "cell_type": "markdown",
   "id": "694d9725",
   "metadata": {},
   "source": [
    "### The top 5 movies are:\n",
    "- No country for old men : Action/Adventure/Mystery\n",
    "- Raiders of the lost ark : Action/Adventure\n",
    "- Amadeus : Musical/Drama\n",
    "- Schlinders List : Drama\n",
    "- The Artist : Romcom/Drama"
   ]
  },
  {
   "cell_type": "markdown",
   "id": "1a4381e3",
   "metadata": {},
   "source": [
    "## What are the top 5 movie genres by popularity?"
   ]
  },
  {
   "cell_type": "markdown",
   "id": "f38b9ecb",
   "metadata": {},
   "source": [
    "To answer this question, we will look at the top movies with with high ratings, and observe the most frequently occuring movie genres."
   ]
  },
  {
   "cell_type": "code",
   "execution_count": 28,
   "id": "6c8a982a",
   "metadata": {},
   "outputs": [
    {
     "data": {
      "text/plain": [
       "(287, 3)"
      ]
     },
     "execution_count": 28,
     "metadata": {},
     "output_type": "execute_result"
    }
   ],
   "source": [
    "# I shall consider the 'superior movies' in this case to be the top 40% of the top movies\n",
    "top_movies.shape"
   ]
  },
  {
   "cell_type": "code",
   "execution_count": 29,
   "id": "33f7fed4",
   "metadata": {},
   "outputs": [
    {
     "data": {
      "text/plain": [
       "114.80000000000001"
      ]
     },
     "execution_count": 29,
     "metadata": {},
     "output_type": "execute_result"
    }
   ],
   "source": [
    "# get the number of records to include in the superior\n",
    "287 *0.4"
   ]
  },
  {
   "cell_type": "code",
   "execution_count": 31,
   "id": "4f9eea9f",
   "metadata": {},
   "outputs": [
    {
     "data": {
      "text/plain": [
       "(115, 3)"
      ]
     },
     "execution_count": 31,
     "metadata": {},
     "output_type": "execute_result"
    }
   ],
   "source": [
    "superior_movies= top_movies.iloc[:115]"
   ]
  },
  {
   "cell_type": "code",
   "execution_count": 33,
   "id": "3d54e9a2",
   "metadata": {},
   "outputs": [],
   "source": [
    "# this library helps us split a string using multiple seperators\n",
    "import re"
   ]
  },
  {
   "cell_type": "code",
   "execution_count": 57,
   "id": "75eb0381",
   "metadata": {},
   "outputs": [],
   "source": [
    "# now we split the the genre values for each record\n",
    "genre_split= superior_movies['genre'].map(lambda x: re.split(\"\\\\||and\", x))"
   ]
  },
  {
   "cell_type": "code",
   "execution_count": 72,
   "id": "56e623f9",
   "metadata": {},
   "outputs": [
    {
     "data": {
      "text/plain": [
       "331"
      ]
     },
     "execution_count": 72,
     "metadata": {},
     "output_type": "execute_result"
    }
   ],
   "source": [
    "# we get a list of all the genres in the superior dataframe\n",
    "superior_genres= []\n",
    "for i in genre_split:\n",
    "    superior_genres.extend([genre.strip() for genre in i ])\n",
    "len(superior_genres)"
   ]
  },
  {
   "cell_type": "code",
   "execution_count": 86,
   "id": "be375cb1",
   "metadata": {},
   "outputs": [
    {
     "data": {
      "image/png": "[encoded data removed]",
      "text/plain": [
       "<Figure size 1843.2x1382.4 with 1 Axes>"
      ]
     },
     "metadata": {
      "needs_background": "light"
     },
     "output_type": "display_data"
    }
   ],
   "source": [
    "fig, ax= plt.subplots(figsize= (25.6,19.2))\n",
    "ax.hist(superior_genres, orientation= 'horizontal', bins= len(set(superior_genres)), edgecolor= 'black');\n",
    "ax.set_xlabel('genres', fontsize= 50)\n",
    "ax.set_ylabel('genre counts', fontsize= 50)\n",
    "plt.xticks(fontsize= 30)\n",
    "plt.yticks(fontsize= 30)\n",
    "ax.set_title('Movie genres of top movies', fontsize= 50);"
   ]
  },
  {
   "cell_type": "markdown",
   "id": "630e43db",
   "metadata": {},
   "source": [
    "### The top 5 movie genres are:\n",
    "- Drama\n",
    "- Comedy\n",
    "- Mystery\n",
    "- Suspense\n",
    "- Adventure\n",
    "### Honorable mention\n",
    "- Action"
   ]
  },
  {
   "cell_type": "markdown",
   "id": "24a66a08",
   "metadata": {},
   "source": [
    "## What are the movies with the most money made and what are their genres"
   ]
  },
  {
   "cell_type": "code",
   "execution_count": 3,
   "id": "d4dd81a8",
   "metadata": {
    "scrolled": true
   },
   "outputs": [
    {
     "data": {
      "text/html": [
       "<div>\n",
       "<style scoped>\n",
       "    .dataframe tbody tr th:only-of-type {\n",
       "        vertical-align: middle;\n",
       "    }\n",
       "\n",
       "    .dataframe tbody tr th {\n",
       "        vertical-align: top;\n",
       "    }\n",
       "\n",
       "    .dataframe thead th {\n",
       "        text-align: right;\n",
       "    }\n",
       "</style>\n",
       "<table border=\"1\" class=\"dataframe\">\n",
       "  <thead>\n",
       "    <tr style=\"text-align: right;\">\n",
       "      <th></th>\n",
       "      <th>id</th>\n",
       "      <th>release_date</th>\n",
       "      <th>movie</th>\n",
       "      <th>production_budget</th>\n",
       "      <th>domestic_gross</th>\n",
       "      <th>worldwide_gross</th>\n",
       "    </tr>\n",
       "  </thead>\n",
       "  <tbody>\n",
       "    <tr>\n",
       "      <th>0</th>\n",
       "      <td>1</td>\n",
       "      <td>Dec 18, 2009</td>\n",
       "      <td>Avatar</td>\n",
       "      <td>$425,000,000</td>\n",
       "      <td>$760,507,625</td>\n",
       "      <td>$2,776,345,279</td>\n",
       "    </tr>\n",
       "    <tr>\n",
       "      <th>1</th>\n",
       "      <td>2</td>\n",
       "      <td>May 20, 2011</td>\n",
       "      <td>Pirates of the Caribbean: On Stranger Tides</td>\n",
       "      <td>$410,600,000</td>\n",
       "      <td>$241,063,875</td>\n",
       "      <td>$1,045,663,875</td>\n",
       "    </tr>\n",
       "    <tr>\n",
       "      <th>2</th>\n",
       "      <td>3</td>\n",
       "      <td>Jun 7, 2019</td>\n",
       "      <td>Dark Phoenix</td>\n",
       "      <td>$350,000,000</td>\n",
       "      <td>$42,762,350</td>\n",
       "      <td>$149,762,350</td>\n",
       "    </tr>\n",
       "    <tr>\n",
       "      <th>3</th>\n",
       "      <td>4</td>\n",
       "      <td>May 1, 2015</td>\n",
       "      <td>Avengers: Age of Ultron</td>\n",
       "      <td>$330,600,000</td>\n",
       "      <td>$459,005,868</td>\n",
       "      <td>$1,403,013,963</td>\n",
       "    </tr>\n",
       "    <tr>\n",
       "      <th>4</th>\n",
       "      <td>5</td>\n",
       "      <td>Dec 15, 2017</td>\n",
       "      <td>Star Wars Ep. VIII: The Last Jedi</td>\n",
       "      <td>$317,000,000</td>\n",
       "      <td>$620,181,382</td>\n",
       "      <td>$1,316,721,747</td>\n",
       "    </tr>\n",
       "  </tbody>\n",
       "</table>\n",
       "</div>"
      ],
      "text/plain": [
       "   id  release_date                                        movie  \\\n",
       "0   1  Dec 18, 2009                                       Avatar   \n",
       "1   2  May 20, 2011  Pirates of the Caribbean: On Stranger Tides   \n",
       "2   3   Jun 7, 2019                                 Dark Phoenix   \n",
       "3   4   May 1, 2015                      Avengers: Age of Ultron   \n",
       "4   5  Dec 15, 2017            Star Wars Ep. VIII: The Last Jedi   \n",
       "\n",
       "  production_budget domestic_gross worldwide_gross  \n",
       "0      $425,000,000   $760,507,625  $2,776,345,279  \n",
       "1      $410,600,000   $241,063,875  $1,045,663,875  \n",
       "2      $350,000,000    $42,762,350    $149,762,350  \n",
       "3      $330,600,000   $459,005,868  $1,403,013,963  \n",
       "4      $317,000,000   $620,181,382  $1,316,721,747  "
      ]
     },
     "execution_count": 3,
     "metadata": {},
     "output_type": "execute_result"
    }
   ],
   "source": [
    "movie_budgets.head()"
   ]
  },
  {
   "cell_type": "code",
   "execution_count": 16,
   "id": "d6b4c17d",
   "metadata": {},
   "outputs": [],
   "source": [
    "# function that converts the monetary columns to integers\n",
    "def numerize(col):\n",
    "    no_comma= movie_budgets[col].map(lambda x: x.replace(',', ''))\n",
    "    no_dollar= no_comma.map(lambda x: x.replace('$', ''))\n",
    "    numerized_col= pd.to_numeric(no_dollar)\n",
    "    return numerized_col"
   ]
  },
  {
   "cell_type": "code",
   "execution_count": 17,
   "id": "69938aca",
   "metadata": {},
   "outputs": [],
   "source": [
    "movie_budgets['production_budget']= numerize('production_budget')\n",
    "movie_budgets['domestic_gross']= numerize('domestic_gross')\n",
    "movie_budgets['worldwide_gross']= numerize('worldwide_gross')"
   ]
  },
  {
   "cell_type": "code",
   "execution_count": 24,
   "id": "0850e52c",
   "metadata": {},
   "outputs": [],
   "source": [
    "# getting the profit/loss the movies made\n",
    "movie_budgets['profit_loss']= movie_budgets['production_budget']- movie_budgets['domestic_gross']+ movie_budgets['worldwide_gross']"
   ]
  },
  {
   "cell_type": "code",
   "execution_count": 34,
   "id": "c9dc16de",
   "metadata": {
    "scrolled": false
   },
   "outputs": [
    {
     "data": {
      "text/html": [
       "<div>\n",
       "<style scoped>\n",
       "    .dataframe tbody tr th:only-of-type {\n",
       "        vertical-align: middle;\n",
       "    }\n",
       "\n",
       "    .dataframe tbody tr th {\n",
       "        vertical-align: top;\n",
       "    }\n",
       "\n",
       "    .dataframe thead th {\n",
       "        text-align: right;\n",
       "    }\n",
       "</style>\n",
       "<table border=\"1\" class=\"dataframe\">\n",
       "  <thead>\n",
       "    <tr style=\"text-align: right;\">\n",
       "      <th></th>\n",
       "      <th>id</th>\n",
       "      <th>release_date</th>\n",
       "      <th>movie</th>\n",
       "      <th>production_budget</th>\n",
       "      <th>domestic_gross</th>\n",
       "      <th>worldwide_gross</th>\n",
       "      <th>profit_loss</th>\n",
       "    </tr>\n",
       "  </thead>\n",
       "  <tbody>\n",
       "    <tr>\n",
       "      <th>0</th>\n",
       "      <td>1</td>\n",
       "      <td>Dec 18, 2009</td>\n",
       "      <td>Avatar</td>\n",
       "      <td>425000000</td>\n",
       "      <td>760507625</td>\n",
       "      <td>2776345279</td>\n",
       "      <td>2440837654</td>\n",
       "    </tr>\n",
       "    <tr>\n",
       "      <th>42</th>\n",
       "      <td>43</td>\n",
       "      <td>Dec 19, 1997</td>\n",
       "      <td>Titanic</td>\n",
       "      <td>200000000</td>\n",
       "      <td>659363944</td>\n",
       "      <td>2208208395</td>\n",
       "      <td>1748844451</td>\n",
       "    </tr>\n",
       "    <tr>\n",
       "      <th>6</th>\n",
       "      <td>7</td>\n",
       "      <td>Apr 27, 2018</td>\n",
       "      <td>Avengers: Infinity War</td>\n",
       "      <td>300000000</td>\n",
       "      <td>678815482</td>\n",
       "      <td>2048134200</td>\n",
       "      <td>1669318718</td>\n",
       "    </tr>\n",
       "    <tr>\n",
       "      <th>5</th>\n",
       "      <td>6</td>\n",
       "      <td>Dec 18, 2015</td>\n",
       "      <td>Star Wars Ep. VII: The Force Awakens</td>\n",
       "      <td>306000000</td>\n",
       "      <td>936662225</td>\n",
       "      <td>2053311220</td>\n",
       "      <td>1422648995</td>\n",
       "    </tr>\n",
       "    <tr>\n",
       "      <th>66</th>\n",
       "      <td>67</td>\n",
       "      <td>Apr 3, 2015</td>\n",
       "      <td>Furious 7</td>\n",
       "      <td>190000000</td>\n",
       "      <td>353007020</td>\n",
       "      <td>1518722794</td>\n",
       "      <td>1355715774</td>\n",
       "    </tr>\n",
       "    <tr>\n",
       "      <th>3</th>\n",
       "      <td>4</td>\n",
       "      <td>May 1, 2015</td>\n",
       "      <td>Avengers: Age of Ultron</td>\n",
       "      <td>330600000</td>\n",
       "      <td>459005868</td>\n",
       "      <td>1403013963</td>\n",
       "      <td>1274608095</td>\n",
       "    </tr>\n",
       "    <tr>\n",
       "      <th>22</th>\n",
       "      <td>23</td>\n",
       "      <td>Apr 14, 2017</td>\n",
       "      <td>The Fate of the Furious</td>\n",
       "      <td>250000000</td>\n",
       "      <td>225764765</td>\n",
       "      <td>1234846267</td>\n",
       "      <td>1259081502</td>\n",
       "    </tr>\n",
       "    <tr>\n",
       "      <th>1</th>\n",
       "      <td>2</td>\n",
       "      <td>May 20, 2011</td>\n",
       "      <td>Pirates of the Caribbean: On Stranger Tides</td>\n",
       "      <td>410600000</td>\n",
       "      <td>241063875</td>\n",
       "      <td>1045663875</td>\n",
       "      <td>1215200000</td>\n",
       "    </tr>\n",
       "    <tr>\n",
       "      <th>33</th>\n",
       "      <td>34</td>\n",
       "      <td>Jun 12, 2015</td>\n",
       "      <td>Jurassic World</td>\n",
       "      <td>215000000</td>\n",
       "      <td>652270625</td>\n",
       "      <td>1648854864</td>\n",
       "      <td>1211584239</td>\n",
       "    </tr>\n",
       "    <tr>\n",
       "      <th>26</th>\n",
       "      <td>27</td>\n",
       "      <td>May 4, 2012</td>\n",
       "      <td>The Avengers</td>\n",
       "      <td>225000000</td>\n",
       "      <td>623279547</td>\n",
       "      <td>1517935897</td>\n",
       "      <td>1119656350</td>\n",
       "    </tr>\n",
       "  </tbody>\n",
       "</table>\n",
       "</div>"
      ],
      "text/plain": [
       "    id  release_date                                        movie  \\\n",
       "0    1  Dec 18, 2009                                       Avatar   \n",
       "42  43  Dec 19, 1997                                      Titanic   \n",
       "6    7  Apr 27, 2018                       Avengers: Infinity War   \n",
       "5    6  Dec 18, 2015         Star Wars Ep. VII: The Force Awakens   \n",
       "66  67   Apr 3, 2015                                    Furious 7   \n",
       "3    4   May 1, 2015                      Avengers: Age of Ultron   \n",
       "22  23  Apr 14, 2017                      The Fate of the Furious   \n",
       "1    2  May 20, 2011  Pirates of the Caribbean: On Stranger Tides   \n",
       "33  34  Jun 12, 2015                               Jurassic World   \n",
       "26  27   May 4, 2012                                 The Avengers   \n",
       "\n",
       "    production_budget  domestic_gross  worldwide_gross  profit_loss  \n",
       "0           425000000       760507625       2776345279   2440837654  \n",
       "42          200000000       659363944       2208208395   1748844451  \n",
       "6           300000000       678815482       2048134200   1669318718  \n",
       "5           306000000       936662225       2053311220   1422648995  \n",
       "66          190000000       353007020       1518722794   1355715774  \n",
       "3           330600000       459005868       1403013963   1274608095  \n",
       "22          250000000       225764765       1234846267   1259081502  \n",
       "1           410600000       241063875       1045663875   1215200000  \n",
       "33          215000000       652270625       1648854864   1211584239  \n",
       "26          225000000       623279547       1517935897   1119656350  "
      ]
     },
     "execution_count": 34,
     "metadata": {},
     "output_type": "execute_result"
    }
   ],
   "source": [
    "# we will only look at the top 10 movies\n",
    "movie_budgets.sort_values('profit_loss', ascending= False).head(10)"
   ]
  },
  {
   "cell_type": "markdown",
   "id": "7a6303f6",
   "metadata": {},
   "source": [
    "From pre-acquired knowledge, i am aware of the genres in the movies displayed above."
   ]
  },
  {
   "cell_type": "markdown",
   "id": "fad68496",
   "metadata": {},
   "source": [
    "### The top profitable movies and their genres are:\n",
    "- Avatar: Action/Scifi/Drama\n",
    "- Titanic: Drama/romance/true-story\n",
    "- Avengers: Infinity War Action/Scifi/\n",
    "- Star Wars Ep. VII: The Force Awakens: Action/Scifi\n",
    "- Furious 7: Action/Drama/Comedy\n",
    "- Avengers: Age of Ultron: Action/Scifi\n",
    "- The Fate of the Furious: Action/Comedy\n",
    "- Pirates of the Caribbean: On Stranger Tides: Adventure/Comedy\n",
    "- Jurassic World: Adventure/Action\n",
    "- The Avengers: Action/Scifi/Comedy/Drama"
   ]
  },
  {
   "cell_type": "markdown",
   "id": "dd9c7f79",
   "metadata": {},
   "source": [
    "## Conclusions"
   ]
  },
  {
   "cell_type": "markdown",
   "id": "c4b40d60",
   "metadata": {},
   "source": [
    "The most popular movies amongst the general audience seems to be science fiction and action. While the most popular movies among movie critics seem to be Drama and Comedy. So i recommend Microsoft studios to:\n",
    "- Create a movie that has all 4 of the above mentioned genres: action, scifi, drama, comedy (the movie deadpool comes to mind)\n",
    "- Stay away from Sports and Fitness genres.<br>\n",
    "I have also concluded that the top movies have multiple sequels. So i suggest Microsoft studios to:\n",
    "- to put  some of their resources aside for a future sequel.\n"
   ]
  }
 ],
 "metadata": {
  "kernelspec": {
   "display_name": "Python 3 (ipykernel)",
   "language": "python",
   "name": "python3"
  },
  "language_info": {
   "codemirror_mode": {
    "name": "ipython",
    "version": 3
   },
   "file_extension": ".py",
   "mimetype": "text/x-python",
   "name": "python",
   "nbconvert_exporter": "python",
   "pygments_lexer": "ipython3",
   "version": "3.9.7"
  }
 },
 "nbformat": 4,
 "nbformat_minor": 5
}
